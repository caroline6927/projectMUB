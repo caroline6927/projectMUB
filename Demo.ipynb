{
 "cells": [
  {
   "cell_type": "code",
   "execution_count": 1,
   "metadata": {
    "collapsed": true
   },
   "outputs": [],
   "source": [
    "import pandas as pd\n",
    "import numpy as np\n",
    "import random\n",
    "from lib.get_plots import *\n",
    "from lib.sba_transform import *\n",
    "from lib.model_pipeline import *"
   ]
  },
  {
   "cell_type": "code",
   "execution_count": 2,
   "metadata": {
    "collapsed": false
   },
   "outputs": [
    {
     "name": "stdout",
     "output_type": "stream",
     "text": [
      "Populating the interactive namespace from numpy and matplotlib\n"
     ]
    },
    {
     "name": "stderr",
     "output_type": "stream",
     "text": [
      "/Users/ywang/anaconda/lib/python3.5/site-packages/IPython/core/magics/pylab.py:161: UserWarning:\n",
      "\n",
      "pylab import has clobbered these variables: ['figure', 'random']\n",
      "`%matplotlib` prevents importing * from pylab and numpy\n",
      "\n"
     ]
    }
   ],
   "source": [
    "%pylab inline\n",
    "pylab.rcParams['figure.figsize'] = (20, 7)   # caution: plt namespace may be taken"
   ]
  },
  {
   "cell_type": "code",
   "execution_count": 3,
   "metadata": {
    "collapsed": false,
    "scrolled": true
   },
   "outputs": [
    {
     "name": "stdout",
     "output_type": "stream",
     "text": [
      "             heart       steps\n",
      "count  5950.000000  5950.00000\n",
      "mean     71.840504    93.72084\n",
      "std      16.009608   228.97116\n",
      "min      43.000000     0.00000\n",
      "25%      58.000000     0.00000\n",
      "50%      70.000000     0.00000\n",
      "75%      80.000000    49.00000\n",
      "max     156.000000  2306.00000\n"
     ]
    }
   ],
   "source": [
    "data = pd.read_csv('demo/fitbituser.csv', parse_dates=['date_time'])\n",
    "data = filter_na(data)\n",
    "print(data.describe())"
   ]
  },
  {
   "cell_type": "markdown",
   "metadata": {},
   "source": [
    "# Fill missing data with different methods"
   ]
  },
  {
   "cell_type": "code",
   "execution_count": 4,
   "metadata": {
    "collapsed": false
   },
   "outputs": [],
   "source": [
    "ndata1 = fill_missing(data, method='mean')\n",
    "ndata2 = fill_missing(data, method='rndminmax')\n",
    "ndata3 = fill_missing(data, method='rnd50zeromax')\n",
    "ndata4 = fill_missing(data, method='zero')\n",
    "ndata5 = fill_missing(data, method='max')\n",
    "ndatacontrol = fill_missing(data, method='none')"
   ]
  },
  {
   "cell_type": "code",
   "execution_count": 5,
   "metadata": {
    "collapsed": false
   },
   "outputs": [],
   "source": [
    "ndata1 = sba_pipeline(ndata1)\n",
    "ndata2 = sba_pipeline(ndata2)\n",
    "ndata3 = sba_pipeline(ndata3)\n",
    "ndata4 = sba_pipeline(ndata4)\n",
    "ndata5 = sba_pipeline(ndata5)\n",
    "ndatacontrol = sba_pipeline(ndatacontrol)"
   ]
  },
  {
   "cell_type": "markdown",
   "metadata": {},
   "source": [
    "# Heatmap"
   ]
  },
  {
   "cell_type": "code",
   "execution_count": null,
   "metadata": {
    "collapsed": false
   },
   "outputs": [],
   "source": [
    "print(ndata1.describe())\n",
    "ndata1.head(5)"
   ]
  },
  {
   "cell_type": "code",
   "execution_count": null,
   "metadata": {
    "collapsed": false
   },
   "outputs": [],
   "source": [
    "get_heatmap(ndata1, 'steps', 'ndata1 steps')\n",
    "get_heatmap(ndata2, 'steps', 'ndata2 steps')\n",
    "get_heatmap(ndata3, 'steps', 'ndata3 steps')\n",
    "get_heatmap(ndata4, 'steps', 'ndata4 steps')\n",
    "get_heatmap(ndata5, 'steps', 'ndata5 steps')\n",
    "get_heatmap(ndatacontrol, 'steps', 'ndatacontrol steps')"
   ]
  },
  {
   "cell_type": "markdown",
   "metadata": {},
   "source": [
    "# Autocorrelation Analysis"
   ]
  },
  {
   "cell_type": "code",
   "execution_count": null,
   "metadata": {
    "collapsed": false,
    "scrolled": false
   },
   "outputs": [],
   "source": [
    "# with sleeping time\n",
    "get_plot_acf(ndatacontrol.steps, 96*21, 96, title='Autocorrelations of steps in ndatacontrol')\n",
    "get_plot_acf(ndata1.steps, 96*21, 96, title='Autocorrelations of steps in ndata1')\n",
    "get_plot_acf(ndata2.steps, 96*21, 96, title='Autocorrelations of steps in ndata2')\n",
    "get_plot_acf(ndata3.steps, 96*21, 96, title='Autocorrelations of steps in ndata3')\n",
    "get_plot_acf(ndata4.steps, 96*21, 96, title='Autocorrelations of steps in ndata4')\n",
    "get_plot_acf(ndata5.steps, 96*21, 96, title='Autocorrelations of steps in ndata5')\n"
   ]
  },
  {
   "cell_type": "code",
   "execution_count": null,
   "metadata": {
    "collapsed": true
   },
   "outputs": [],
   "source": [
    "# without sleeping time\n",
    "get_plot_acf(filter_sleeping_time(ndatacontrol).steps, 68*21, 68, title='Autocorrelations of steps in ndatacontrol')\n",
    "get_plot_acf(filter_sleeping_time(ndata1).steps, 68*21, 68, title='Autocorrelations of steps in ndata1')\n",
    "get_plot_acf(filter_sleeping_time(ndata2).steps, 68*21, 68, title='Autocorrelations of steps in ndata2')\n",
    "get_plot_acf(filter_sleeping_time(ndata3).steps, 68*21, 68, title='Autocorrelations of steps in ndata3')\n",
    "get_plot_acf(filter_sleeping_time(ndata4).steps, 68*21, 68, title='Autocorrelations of steps in ndata4')\n",
    "get_plot_acf(filter_sleeping_time(ndata5).steps, 68*21, 68, title='Autocorrelations of steps in ndata5')"
   ]
  },
  {
   "cell_type": "markdown",
   "metadata": {},
   "source": [
    "# Get features\n",
    "    1) Weekly and daily circadian rhythmicity of physical activity\n",
    "    2) Autocorrelation analysis for feature selection"
   ]
  },
  {
   "cell_type": "code",
   "execution_count": 7,
   "metadata": {
    "collapsed": false
   },
   "outputs": [
    {
     "name": "stdout",
     "output_type": "stream",
     "text": [
      "the 671 th index has ac of 0.283958\n",
      "the 672 th index has ac of 0.211081\n",
      "the 1343 th index has ac of 0.230691\n",
      "feature indexes are 671, 672, 1343\n",
      "index 671 is valid\n",
      "index 672 is valid\n",
      "index 1343 is valid\n",
      "the 671 th index has ac of 0.283958\n",
      "the 672 th index has ac of 0.211081\n",
      "the 1343 th index has ac of 0.230691\n",
      "feature indexes are 671, 672, 1343\n",
      "index 671 is valid\n",
      "index 672 is valid\n",
      "index 1343 is valid\n",
      "the 671 th index has ac of 0.283958\n",
      "the 672 th index has ac of 0.211081\n",
      "the 1343 th index has ac of 0.230691\n",
      "feature indexes are 671, 672, 1343\n",
      "index 671 is valid\n",
      "index 672 is valid\n",
      "index 1343 is valid\n"
     ]
    }
   ],
   "source": [
    "ndata1_cr, ndata1_cr_features = get_features(ndata1, method='rhythm')\n",
    "ndata1_ac_s, ndata1_ac_s_features = get_features(ndata1, method='autoco')\n",
    "ndata1_ac_sh_params = ['steps', 'heart']\n",
    "ndata1_ac_sh, ndata1_ac_sh_features = get_features(ndata1, method='autoco', params=ndata1_ac_sh_params)"
   ]
  },
  {
   "cell_type": "code",
   "execution_count": null,
   "metadata": {
    "collapsed": true
   },
   "outputs": [],
   "source": [
    "ndata1_cr"
   ]
  },
  {
   "cell_type": "code",
   "execution_count": null,
   "metadata": {
    "collapsed": true
   },
   "outputs": [],
   "source": [
    "ndata1_ac"
   ]
  },
  {
   "cell_type": "code",
   "execution_count": 13,
   "metadata": {
    "collapsed": false
   },
   "outputs": [],
   "source": [
    "ndata1_ac_sh_features = [item for sublist in ndata1_ac_sh_features for item in sublist]"
   ]
  },
  {
   "cell_type": "markdown",
   "metadata": {},
   "source": [
    "# Decision Tree\n",
    "1. Use rhythm features\n",
    "2. Use autoco features\n",
    "    - 1) steps\n",
    "    - 2) steps, heart"
   ]
  },
  {
   "cell_type": "code",
   "execution_count": 8,
   "metadata": {
    "collapsed": true
   },
   "outputs": [],
   "source": [
    "from lib.dt_model import *"
   ]
  },
  {
   "cell_type": "code",
   "execution_count": 15,
   "metadata": {
    "collapsed": false
   },
   "outputs": [
    {
     "name": "stdout",
     "output_type": "stream",
     "text": [
      "accuracy based on training data is 0.652727\n",
      "accuracy based on training data is 0.551011\n",
      "accuracy based on training data is 0.696844\n",
      "accuracy based on training data is 0.694547\n",
      "accuracy based on training data is 0.696538\n",
      "accuracy based on training data is 0.696844\n",
      "accuracy based on training data is 0.696538\n",
      "best features are: 'timeofweek'\n",
      "accuracy based on training data is 0.696844\n",
      "accuracy based on training data is 0.629894\n",
      "accuracy based on training data is 0.629894\n",
      "accuracy based on training data is 0.630665\n",
      "accuracy based on training data is 0.672710\n",
      "accuracy based on training data is 0.686789\n",
      "accuracy based on training data is 0.692960\n",
      "accuracy based on training data is 0.716297\n",
      "best features are: 'stepsfeature_index671', 'stepsfeature_index672', 'stepsfeature_index1343'\n",
      "accuracy based on training data is 0.716297\n",
      "accuracy based on training data is 0.629894\n",
      "accuracy based on training data is 0.629894\n",
      "accuracy based on training data is 0.630665\n",
      "accuracy based on training data is 0.628737\n",
      "accuracy based on training data is 0.632787\n",
      "accuracy based on training data is 0.632015\n",
      "accuracy based on training data is 0.672517\n",
      "accuracy based on training data is 0.687753\n",
      "accuracy based on training data is 0.673095\n",
      "accuracy based on training data is 0.682546\n",
      "accuracy based on training data is 0.696432\n",
      "accuracy based on training data is 0.692960\n",
      "accuracy based on training data is 0.679074\n",
      "accuracy based on training data is 0.672710\n",
      "accuracy based on training data is 0.692382\n",
      "accuracy based on training data is 0.699325\n",
      "accuracy based on training data is 0.700289\n",
      "accuracy based on training data is 0.686017\n",
      "accuracy based on training data is 0.683703\n",
      "accuracy based on training data is 0.709932\n",
      "accuracy based on training data is 0.712633\n",
      "accuracy based on training data is 0.716104\n",
      "accuracy based on training data is 0.707425\n",
      "accuracy based on training data is 0.711861\n",
      "accuracy based on training data is 0.732112\n",
      "accuracy based on training data is 0.723819\n",
      "accuracy based on training data is 0.725747\n",
      "accuracy based on training data is 0.730376\n",
      "accuracy based on training data is 0.712247\n",
      "accuracy based on training data is 0.731148\n",
      "accuracy based on training data is 0.740212\n",
      "accuracy based on training data is 0.723240\n",
      "accuracy based on training data is 0.722276\n",
      "accuracy based on training data is 0.730376\n",
      "accuracy based on training data is 0.716297\n",
      "accuracy based on training data is 0.735391\n",
      "accuracy based on training data is 0.733076\n",
      "accuracy based on training data is 0.734426\n",
      "accuracy based on training data is 0.737319\n",
      "accuracy based on training data is 0.738476\n",
      "accuracy based on training data is 0.741948\n",
      "accuracy based on training data is 0.748505\n",
      "accuracy based on training data is 0.746770\n",
      "accuracy based on training data is 0.745419\n",
      "accuracy based on training data is 0.733655\n",
      "accuracy based on training data is 0.752748\n",
      "accuracy based on training data is 0.747541\n",
      "accuracy based on training data is 0.751591\n",
      "accuracy based on training data is 0.753134\n",
      "accuracy based on training data is 0.761427\n",
      "accuracy based on training data is 0.756606\n",
      "accuracy based on training data is 0.753327\n",
      "accuracy based on training data is 0.755063\n",
      "accuracy based on training data is 0.756220\n",
      "accuracy based on training data is 0.752555\n",
      "accuracy based on training data is 0.753905\n",
      "accuracy based on training data is 0.761813\n",
      "accuracy based on training data is 0.763742\n",
      "accuracy based on training data is 0.763742\n",
      "accuracy based on training data is 0.765863\n",
      "accuracy based on training data is 0.766635\n",
      "accuracy based on training data is 0.765092\n",
      "accuracy based on training data is 0.773963\n",
      "best features are: 'stepsfeature_index671', 'stepsfeature_index672', 'stepsfeature_index1343', 'heartfeature_index671', 'heartfeature_index672', 'heartfeature_index1343'\n",
      "accuracy based on training data is 0.773963\n"
     ]
    }
   ],
   "source": [
    "ndata1_cr_model, ndata1_cr_model_features = get_dt_model(ndata1_cr, ndata1_cr_features, 'inactive', optimized=True)\n",
    "ndata1_ac_s_model, ndata1_ac_s_model_features = get_dt_model(ndata1_ac_s, ndata1_ac_s_features, 'inactive', optimized=True)\n",
    "ndata1_ac_sh_model, ndata1_ac_sh_model_features = get_dt_model(ndata1_ac_sh, ndata1_ac_sh_features, 'inactive', optimized=True)"
   ]
  },
  {
   "cell_type": "code",
   "execution_count": null,
   "metadata": {
    "collapsed": true
   },
   "outputs": [],
   "source": []
  },
  {
   "cell_type": "code",
   "execution_count": null,
   "metadata": {
    "collapsed": false,
    "scrolled": false
   },
   "outputs": [],
   "source": [
    "ndata1_ac_model, ndata1_ac_model_features = get_dt_model(ndata1_ac, ndata1_ac_features, 'inactive', optimized=True)"
   ]
  },
  {
   "cell_type": "code",
   "execution_count": null,
   "metadata": {
    "collapsed": true
   },
   "outputs": [],
   "source": []
  },
  {
   "cell_type": "code",
   "execution_count": null,
   "metadata": {
    "collapsed": false
   },
   "outputs": [],
   "source": [
    "\n"
   ]
  },
  {
   "cell_type": "markdown",
   "metadata": {},
   "source": [
    "\n",
    "frame = pd.DataFrame(np.random.randn(4, 3), columns=list('bde'), index=['Utah', 'Ohio', 'Texas', 'Oregon']); frame\n",
    "foo = set(['a', 'b','b', 'c', 'd', 'e'])\n",
    "print(random.sample(foo,2))\n",
    "type(set([x for x in range(7)])[0])\n",
    "frame.reset_index(inplace=True)\n",
    "frame.loc[[2,3], :]"
   ]
  }
 ],
 "metadata": {
  "anaconda-cloud": {},
  "kernelspec": {
   "display_name": "Python [default]",
   "language": "python",
   "name": "python3"
  },
  "language_info": {
   "codemirror_mode": {
    "name": "ipython",
    "version": 3
   },
   "file_extension": ".py",
   "mimetype": "text/x-python",
   "name": "python",
   "nbconvert_exporter": "python",
   "pygments_lexer": "ipython3",
   "version": "3.5.2"
  }
 },
 "nbformat": 4,
 "nbformat_minor": 1
}
