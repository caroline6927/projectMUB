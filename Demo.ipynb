{
 "cells": [
  {
   "cell_type": "code",
   "execution_count": 2,
   "metadata": {
    "collapsed": false
   },
   "outputs": [],
   "source": [
    "import pandas as pd\n",
    "import numpy as np\n",
    "import random\n",
    "from lib.get_plots import *\n",
    "from lib.sba_transform import *\n",
    "from lib.model_pipeline import *\n",
    "# from lib.dt_model import *\n",
    "from lib.demo_model_pipeline import * "
   ]
  },
  {
   "cell_type": "code",
   "execution_count": null,
   "metadata": {
    "collapsed": false
   },
   "outputs": [],
   "source": [
    "%pylab inline\n",
    "pylab.rcParams['figure.figsize'] = (20, 7)   # caution: plt namespace may be taken"
   ]
  },
  {
   "cell_type": "code",
   "execution_count": 3,
   "metadata": {
    "collapsed": false,
    "scrolled": true
   },
   "outputs": [
    {
     "name": "stdout",
     "output_type": "stream",
     "text": [
      "             heart       steps\n",
      "count  5950.000000  5950.00000\n",
      "mean     71.840504    93.72084\n",
      "std      16.009608   228.97116\n",
      "min      43.000000     0.00000\n",
      "25%      58.000000     0.00000\n",
      "50%      70.000000     0.00000\n",
      "75%      80.000000    49.00000\n",
      "max     156.000000  2306.00000\n"
     ]
    }
   ],
   "source": [
    "data = pd.read_csv('demo/fitbituser.csv', parse_dates=['date_time'])\n",
    "data = filter_na(data)\n",
    "print(data.describe())"
   ]
  },
  {
   "cell_type": "markdown",
   "metadata": {},
   "source": [
    "# Fill missing data with different methods"
   ]
  },
  {
   "cell_type": "code",
   "execution_count": 4,
   "metadata": {
    "collapsed": false
   },
   "outputs": [],
   "source": [
    "ndata1 = fill_missing(data, method='mean')\n",
    "ndata2 = fill_missing(data, method='rndminmax')\n",
    "ndata3 = fill_missing(data, method='rnd50zeromax')\n",
    "ndata4 = fill_missing(data, method='zero')\n",
    "ndata5 = fill_missing(data, method='max')\n",
    "ndatacontrol = fill_missing(data, method='none')"
   ]
  },
  {
   "cell_type": "code",
   "execution_count": 5,
   "metadata": {
    "collapsed": false
   },
   "outputs": [],
   "source": [
    "ndata1 = sba_pipeline(ndata1)\n",
    "ndata2 = sba_pipeline(ndata2)\n",
    "ndata3 = sba_pipeline(ndata3)\n",
    "ndata4 = sba_pipeline(ndata4)\n",
    "ndata5 = sba_pipeline(ndata5)\n",
    "ndatacontrol = sba_pipeline(ndatacontrol)"
   ]
  },
  {
   "cell_type": "markdown",
   "metadata": {},
   "source": [
    "# Heatmap"
   ]
  },
  {
   "cell_type": "code",
   "execution_count": null,
   "metadata": {
    "collapsed": false
   },
   "outputs": [],
   "source": [
    "print(ndata1.describe())\n",
    "ndata1.head(5)"
   ]
  },
  {
   "cell_type": "code",
   "execution_count": null,
   "metadata": {
    "collapsed": false
   },
   "outputs": [],
   "source": [
    "get_heatmap(ndata1, 'steps', 'ndata1 steps')\n",
    "get_heatmap(ndata2, 'steps', 'ndata2 steps')\n",
    "get_heatmap(ndata3, 'steps', 'ndata3 steps')\n",
    "get_heatmap(ndata4, 'steps', 'ndata4 steps')\n",
    "get_heatmap(ndata5, 'steps', 'ndata5 steps')\n",
    "get_heatmap(ndatacontrol, 'steps', 'ndatacontrol steps')"
   ]
  },
  {
   "cell_type": "markdown",
   "metadata": {},
   "source": [
    "# Autocorrelation Analysis"
   ]
  },
  {
   "cell_type": "code",
   "execution_count": null,
   "metadata": {
    "collapsed": false,
    "scrolled": false
   },
   "outputs": [],
   "source": [
    "# with sleeping time\n",
    "get_plot_acf(ndatacontrol.steps, 96*21, 96, title='Autocorrelations of steps in ndatacontrol')\n",
    "get_plot_acf(ndata1.steps, 96*21, 96, title='Autocorrelations of steps in ndata1')\n",
    "get_plot_acf(ndata2.steps, 96*21, 96, title='Autocorrelations of steps in ndata2')\n",
    "get_plot_acf(ndata3.steps, 96*21, 96, title='Autocorrelations of steps in ndata3')\n",
    "get_plot_acf(ndata4.steps, 96*21, 96, title='Autocorrelations of steps in ndata4')\n",
    "get_plot_acf(ndata5.steps, 96*21, 96, title='Autocorrelations of steps in ndata5')\n"
   ]
  },
  {
   "cell_type": "code",
   "execution_count": null,
   "metadata": {
    "collapsed": true
   },
   "outputs": [],
   "source": [
    "# without sleeping time\n",
    "get_plot_acf(filter_sleeping_time(ndatacontrol).steps, 68*21, 68, title='Autocorrelations of steps in ndatacontrol')\n",
    "get_plot_acf(filter_sleeping_time(ndata1).steps, 68*21, 68, title='Autocorrelations of steps in ndata1')\n",
    "get_plot_acf(filter_sleeping_time(ndata2).steps, 68*21, 68, title='Autocorrelations of steps in ndata2')\n",
    "get_plot_acf(filter_sleeping_time(ndata3).steps, 68*21, 68, title='Autocorrelations of steps in ndata3')\n",
    "get_plot_acf(filter_sleeping_time(ndata4).steps, 68*21, 68, title='Autocorrelations of steps in ndata4')\n",
    "get_plot_acf(filter_sleeping_time(ndata5).steps, 68*21, 68, title='Autocorrelations of steps in ndata5')"
   ]
  },
  {
   "cell_type": "markdown",
   "metadata": {},
   "source": [
    "# Get features\n",
    "    1) Weekly and daily circadian rhythmicity of physical activity\n",
    "    2) Autocorrelation analysis for feature selection"
   ]
  },
  {
   "cell_type": "code",
   "execution_count": null,
   "metadata": {
    "collapsed": true
   },
   "outputs": [],
   "source": [
    "# 1. circadian rhythmicity features: time, time of week, day of week\n",
    "ndata1_cr, ndata1_cr_features = get_features(ndata1, method='rhythm')\n",
    "# 2. autocorrelated parameters: steps\n",
    "ndata1_ac_s, ndata1_ac_s_features = get_features(ndata1, method='autoco')\n",
    "# 3. autocorrelated parameters: steps and heart\n",
    "ndata1_ac_sh_params = ['steps', 'heart']\n",
    "ndata1_ac_sh, ndata1_ac_sh_features_subset = get_features(ndata1, method='autoco', params=ndata1_ac_sh_params)\n",
    "ndata1_ac_sh_features = [item for sublist in ndata1_ac_sh_features_subset for item in sublist]\n",
    "# 4. circadian rhythmicity features + autocorrelated parameters: time, time of week, day of week, steps, heart\n",
    "ndata1_ac_shr, ndata1_ac_shr_features_subset = get_features(ndata1_ac_sh, method='rhythm')\n",
    "ndata1_ac_shr_features = ndata1_ac_shr_features_subset + ndata1_ac_sh_features"
   ]
  },
  {
   "cell_type": "code",
   "execution_count": null,
   "metadata": {
    "collapsed": false
   },
   "outputs": [],
   "source": [
    "ndata1_ac_shr.head()"
   ]
  },
  {
   "cell_type": "markdown",
   "metadata": {},
   "source": [
    "# Machine Learning Models\n",
    "1. Use rhythm features\n",
    "2. Use autoco features\n",
    "    - 1) steps\n",
    "    - 2) steps, heart"
   ]
  },
  {
   "cell_type": "code",
   "execution_count": 6,
   "metadata": {
    "collapsed": false
   },
   "outputs": [
    {
     "name": "stdout",
     "output_type": "stream",
     "text": [
      "the 671 th index has ac of 0.283958\n",
      "the 672 th index has ac of 0.211081\n",
      "the 1343 th index has ac of 0.230691\n",
      "feature indexes are 671, 672, 1343\n",
      "index 671 is valid\n",
      "index 672 is valid\n",
      "index 1343 is valid\n",
      "the 671 th index has ac of 0.283958\n",
      "the 672 th index has ac of 0.211081\n",
      "the 1343 th index has ac of 0.230691\n",
      "feature indexes are 671, 672, 1343\n",
      "index 671 is valid\n",
      "index 672 is valid\n",
      "index 1343 is valid\n"
     ]
    }
   ],
   "source": [
    "# All features\n",
    "# 4. circadian rhythmicity features + autocorrelated parameters: time, time of week, day of week, steps, heart\n",
    "sh_params = ['steps', 'heart']\n",
    "ndata1, features_subset1 = get_features(ndata1, method='autoco', params=sh_params)\n",
    "features_subset1 = [item for sublist in features_subset1 for item in sublist]\n",
    "ndata1, features_subset2 = get_features(ndata1, method='rhythm')\n",
    "ndata1_features = features_subset1 + features_subset2"
   ]
  },
  {
   "cell_type": "code",
   "execution_count": 7,
   "metadata": {
    "collapsed": false
   },
   "outputs": [
    {
     "data": {
      "text/plain": [
       "['stepsfeature_index671',\n",
       " 'stepsfeature_index672',\n",
       " 'stepsfeature_index1343',\n",
       " 'heartfeature_index671',\n",
       " 'heartfeature_index672',\n",
       " 'heartfeature_index1343',\n",
       " 'time',\n",
       " 'dayofweek',\n",
       " 'timeofweek']"
      ]
     },
     "execution_count": 7,
     "metadata": {},
     "output_type": "execute_result"
    }
   ],
   "source": [
    "ndata1_features"
   ]
  },
  {
   "cell_type": "code",
   "execution_count": 8,
   "metadata": {
    "collapsed": false
   },
   "outputs": [
    {
     "name": "stdout",
     "output_type": "stream",
     "text": [
      "number of observations in training data is: 4148\n",
      "number of observations in testing data is: 1037\n"
     ]
    }
   ],
   "source": [
    "# get train and test\n",
    "ndata1_train, ndata1_test = get_train_test(ndata1, split=0.8)"
   ]
  },
  {
   "cell_type": "code",
   "execution_count": 10,
   "metadata": {
    "collapsed": true
   },
   "outputs": [],
   "source": [
    "from lib.MachineLearningModels import *"
   ]
  },
  {
   "cell_type": "code",
   "execution_count": null,
   "metadata": {
    "collapsed": true
   },
   "outputs": [],
   "source": []
  },
  {
   "cell_type": "code",
   "execution_count": 50,
   "metadata": {
    "collapsed": false
   },
   "outputs": [
    {
     "name": "stdout",
     "output_type": "stream",
     "text": [
      "best features are: 'stepsfeature_index671', 'stepsfeature_index672', 'stepsfeature_index1343', 'heartfeature_index671', 'heartfeature_index672', 'heartfeature_index1343', 'time', 'dayofweek', 'timeofweek'\n",
      "accuracy based on training data is 0.805689\n",
      "['stepsfeature_index671', 'stepsfeature_index672', 'stepsfeature_index1343', 'heartfeature_index671', 'heartfeature_index672', 'heartfeature_index1343', 'time', 'dayofweek', 'timeofweek']\n",
      "prediction accuracy based on test data is 0.593057 \n",
      "prediction score on test data is 0.593057\n",
      "false positive rate is 0.203472\n",
      "false negative rate is 0.203472\n"
     ]
    }
   ],
   "source": [
    "# Decision Tree \n",
    "# 80.59% 58.92%\n",
    "# prediction score on test data is 0.589200\n",
    "# false positive rate is 0.207329\n",
    "# false negative rate is 0.203472\n",
    "ndata1_dt_model, ndata1_dt_model_features = get_selected_model(ndata1_train, \n",
    "                                                               ndata1_features, \n",
    "                                                               'inactive', \n",
    "                                                               'Decision Tree', \n",
    "                                                               optimized=True)\n",
    "ndata1_dt_model_predicted, ndata1_dt_model_accuracy = get_prediction(ndata1_test, \n",
    "                                                                     ndata1_dt_model, \n",
    "                                                                     'inactive', \n",
    "                                                                     ndata1_dt_model_features)\n",
    "get_model_accuracy(ndata1_dt_model_predicted, ndata1_test['inactive'])"
   ]
  },
  {
   "cell_type": "code",
   "execution_count": 49,
   "metadata": {
    "collapsed": false
   },
   "outputs": [
    {
     "name": "stdout",
     "output_type": "stream",
     "text": [
      "['stepsfeature_index672', 'stepsfeature_index1343', 'heartfeature_index671', 'heartfeature_index672', 'heartfeature_index1343', 'time', 'dayofweek', 'timeofweek']\n",
      "prediction accuracy based on test data is 0.628737 \n"
     ]
    }
   ],
   "source": [
    "# Random Forest\n",
    "ndata1_rf_model, ndata1_rf_model_features = get_selected_model(ndata1_train, ndata1_features[1:], 'inactive',\n",
    "                                                               'Random Forest', optimized=False)\n",
    "ndata1_rf_model_predicted, ndata1_rf_model_accuracy = get_prediction(ndata1_test,\n",
    "                                                                     ndata1_rf_model,\n",
    "                                                                     'inactive',\n",
    "                                                                     ndata1_rf_model_features)"
   ]
  },
  {
   "cell_type": "code",
   "execution_count": 71,
   "metadata": {
    "collapsed": false
   },
   "outputs": [
    {
     "name": "stdout",
     "output_type": "stream",
     "text": [
      "['stepsfeature_index671', 'stepsfeature_index672', 'stepsfeature_index1343', 'heartfeature_index671', 'heartfeature_index672', 'heartfeature_index1343', 'time', 'dayofweek', 'timeofweek']\n",
      "prediction accuracy based on test data is 0.633558 \n"
     ]
    }
   ],
   "source": [
    "# Bagging\n",
    "ndata1_bg_model, ndata1_bg_model_features = get_selected_model(ndata1_train, ndata1_features, 'inactive', 'Bagging',\n",
    "                                                               optimized=False)\n",
    "ndata1_bg_model_predicted, ndata1_bg_model_accuracy = get_prediction(ndata1_test,\n",
    "                                                                     ndata1_bg_model,\n",
    "                                                                     'inactive',\n",
    "                                                                     ndata1_bg_model_features)"
   ]
  },
  {
   "cell_type": "code",
   "execution_count": 102,
   "metadata": {
    "collapsed": false
   },
   "outputs": [
    {
     "name": "stdout",
     "output_type": "stream",
     "text": [
      "['stepsfeature_index671', 'stepsfeature_index672', 'stepsfeature_index1343', 'heartfeature_index671', 'heartfeature_index672', 'heartfeature_index1343', 'time', 'dayofweek', 'timeofweek']\n",
      "prediction accuracy based on test data is 0.657666 \n",
      "['stepsfeature_index671', 'stepsfeature_index672', 'stepsfeature_index1343', 'heartfeature_index671', 'heartfeature_index672', 'heartfeature_index1343', 'time', 'dayofweek', 'timeofweek']\n",
      "prediction accuracy based on test data is 0.656702 \n",
      "['stepsfeature_index671', 'stepsfeature_index672', 'stepsfeature_index1343', 'heartfeature_index671', 'heartfeature_index672', 'heartfeature_index1343', 'time', 'dayofweek', 'timeofweek']\n",
      "prediction accuracy based on test data is 0.660559 \n",
      "['stepsfeature_index671', 'stepsfeature_index672', 'stepsfeature_index1343', 'heartfeature_index671', 'heartfeature_index672', 'heartfeature_index1343', 'time', 'dayofweek', 'timeofweek']\n",
      "prediction accuracy based on test data is 0.657666 \n",
      "['stepsfeature_index671', 'stepsfeature_index672', 'stepsfeature_index1343', 'heartfeature_index671', 'heartfeature_index672', 'heartfeature_index1343', 'time', 'dayofweek', 'timeofweek']\n",
      "prediction accuracy based on test data is 0.649952 \n",
      "['stepsfeature_index671', 'stepsfeature_index672', 'stepsfeature_index1343', 'heartfeature_index671', 'heartfeature_index672', 'heartfeature_index1343', 'time', 'dayofweek', 'timeofweek']\n",
      "prediction accuracy based on test data is 0.660559 \n",
      "['stepsfeature_index671', 'stepsfeature_index672', 'stepsfeature_index1343', 'heartfeature_index671', 'heartfeature_index672', 'heartfeature_index1343', 'time', 'dayofweek', 'timeofweek']\n",
      "prediction accuracy based on test data is 0.660559 \n",
      "['stepsfeature_index671', 'stepsfeature_index672', 'stepsfeature_index1343', 'heartfeature_index671', 'heartfeature_index672', 'heartfeature_index1343', 'time', 'dayofweek', 'timeofweek']\n",
      "prediction accuracy based on test data is 0.660559 \n",
      "['stepsfeature_index671', 'stepsfeature_index672', 'stepsfeature_index1343', 'heartfeature_index671', 'heartfeature_index672', 'heartfeature_index1343', 'time', 'dayofweek', 'timeofweek']\n",
      "prediction accuracy based on test data is 0.660559 \n",
      "['stepsfeature_index671', 'stepsfeature_index672', 'stepsfeature_index1343', 'heartfeature_index671', 'heartfeature_index672', 'heartfeature_index1343', 'time', 'dayofweek', 'timeofweek']\n",
      "prediction accuracy based on test data is 0.660559 \n",
      "['stepsfeature_index671', 'stepsfeature_index672', 'stepsfeature_index1343', 'heartfeature_index671', 'heartfeature_index672', 'heartfeature_index1343', 'time', 'dayofweek', 'timeofweek']\n",
      "prediction accuracy based on test data is 0.660559 \n",
      "['stepsfeature_index671', 'stepsfeature_index672', 'stepsfeature_index1343', 'heartfeature_index671', 'heartfeature_index672', 'heartfeature_index1343', 'time', 'dayofweek', 'timeofweek']\n",
      "prediction accuracy based on test data is 0.660559 \n",
      "['stepsfeature_index671', 'stepsfeature_index672', 'stepsfeature_index1343', 'heartfeature_index671', 'heartfeature_index672', 'heartfeature_index1343', 'time', 'dayofweek', 'timeofweek']\n",
      "prediction accuracy based on test data is 0.660559 \n",
      "['stepsfeature_index671', 'stepsfeature_index672', 'stepsfeature_index1343', 'heartfeature_index671', 'heartfeature_index672', 'heartfeature_index1343', 'time', 'dayofweek', 'timeofweek']\n",
      "prediction accuracy based on test data is 0.660559 \n",
      "['stepsfeature_index671', 'stepsfeature_index672', 'stepsfeature_index1343', 'heartfeature_index671', 'heartfeature_index672', 'heartfeature_index1343', 'time', 'dayofweek', 'timeofweek']\n",
      "prediction accuracy based on test data is 0.660559 \n",
      "['stepsfeature_index671', 'stepsfeature_index672', 'stepsfeature_index1343', 'heartfeature_index671', 'heartfeature_index672', 'heartfeature_index1343', 'time', 'dayofweek', 'timeofweek']\n",
      "prediction accuracy based on test data is 0.660559 \n",
      "['stepsfeature_index671', 'stepsfeature_index672', 'stepsfeature_index1343', 'heartfeature_index671', 'heartfeature_index672', 'heartfeature_index1343', 'time', 'dayofweek', 'timeofweek']\n",
      "prediction accuracy based on test data is 0.660559 \n",
      "['stepsfeature_index671', 'stepsfeature_index672', 'stepsfeature_index1343', 'heartfeature_index671', 'heartfeature_index672', 'heartfeature_index1343', 'time', 'dayofweek', 'timeofweek']\n",
      "prediction accuracy based on test data is 0.660559 \n",
      "['stepsfeature_index671', 'stepsfeature_index672', 'stepsfeature_index1343', 'heartfeature_index671', 'heartfeature_index672', 'heartfeature_index1343', 'time', 'dayofweek', 'timeofweek']\n",
      "prediction accuracy based on test data is 0.660559 \n",
      "['stepsfeature_index671', 'stepsfeature_index672', 'stepsfeature_index1343', 'heartfeature_index671', 'heartfeature_index672', 'heartfeature_index1343', 'time', 'dayofweek', 'timeofweek']\n",
      "prediction accuracy based on test data is 0.660559 \n",
      "['stepsfeature_index671', 'stepsfeature_index672', 'stepsfeature_index1343', 'heartfeature_index671', 'heartfeature_index672', 'heartfeature_index1343', 'time', 'dayofweek', 'timeofweek']\n",
      "prediction accuracy based on test data is 0.657666 \n",
      "['stepsfeature_index671', 'stepsfeature_index672', 'stepsfeature_index1343', 'heartfeature_index671', 'heartfeature_index672', 'heartfeature_index1343', 'time', 'dayofweek', 'timeofweek']\n",
      "prediction accuracy based on test data is 0.660559 \n",
      "['stepsfeature_index671', 'stepsfeature_index672', 'stepsfeature_index1343', 'heartfeature_index671', 'heartfeature_index672', 'heartfeature_index1343', 'time', 'dayofweek', 'timeofweek']\n",
      "prediction accuracy based on test data is 0.660559 \n",
      "['stepsfeature_index671', 'stepsfeature_index672', 'stepsfeature_index1343', 'heartfeature_index671', 'heartfeature_index672', 'heartfeature_index1343', 'time', 'dayofweek', 'timeofweek']\n",
      "prediction accuracy based on test data is 0.660559 \n",
      "['stepsfeature_index671', 'stepsfeature_index672', 'stepsfeature_index1343', 'heartfeature_index671', 'heartfeature_index672', 'heartfeature_index1343', 'time', 'dayofweek', 'timeofweek']\n",
      "prediction accuracy based on test data is 0.660559 \n",
      "['stepsfeature_index671', 'stepsfeature_index672', 'stepsfeature_index1343', 'heartfeature_index671', 'heartfeature_index672', 'heartfeature_index1343', 'time', 'dayofweek', 'timeofweek']\n",
      "prediction accuracy based on test data is 0.660559 \n",
      "['stepsfeature_index671', 'stepsfeature_index672', 'stepsfeature_index1343', 'heartfeature_index671', 'heartfeature_index672', 'heartfeature_index1343', 'time', 'dayofweek', 'timeofweek']\n",
      "prediction accuracy based on test data is 0.660559 \n",
      "['stepsfeature_index671', 'stepsfeature_index672', 'stepsfeature_index1343', 'heartfeature_index671', 'heartfeature_index672', 'heartfeature_index1343', 'time', 'dayofweek', 'timeofweek']\n",
      "prediction accuracy based on test data is 0.660559 \n",
      "['stepsfeature_index671', 'stepsfeature_index672', 'stepsfeature_index1343', 'heartfeature_index671', 'heartfeature_index672', 'heartfeature_index1343', 'time', 'dayofweek', 'timeofweek']\n",
      "prediction accuracy based on test data is 0.660559 \n",
      "['stepsfeature_index671', 'stepsfeature_index672', 'stepsfeature_index1343', 'heartfeature_index671', 'heartfeature_index672', 'heartfeature_index1343', 'time', 'dayofweek', 'timeofweek']\n",
      "prediction accuracy based on test data is 0.660559 \n",
      "['stepsfeature_index671', 'stepsfeature_index672', 'stepsfeature_index1343', 'heartfeature_index671', 'heartfeature_index672', 'heartfeature_index1343', 'time', 'dayofweek', 'timeofweek']\n",
      "prediction accuracy based on test data is 0.660559 \n",
      "['stepsfeature_index671', 'stepsfeature_index672', 'stepsfeature_index1343', 'heartfeature_index671', 'heartfeature_index672', 'heartfeature_index1343', 'time', 'dayofweek', 'timeofweek']\n",
      "prediction accuracy based on test data is 0.660559 \n",
      "['stepsfeature_index671', 'stepsfeature_index672', 'stepsfeature_index1343', 'heartfeature_index671', 'heartfeature_index672', 'heartfeature_index1343', 'time', 'dayofweek', 'timeofweek']\n",
      "prediction accuracy based on test data is 0.660559 \n",
      "['stepsfeature_index671', 'stepsfeature_index672', 'stepsfeature_index1343', 'heartfeature_index671', 'heartfeature_index672', 'heartfeature_index1343', 'time', 'dayofweek', 'timeofweek']\n",
      "prediction accuracy based on test data is 0.660559 \n",
      "['stepsfeature_index671', 'stepsfeature_index672', 'stepsfeature_index1343', 'heartfeature_index671', 'heartfeature_index672', 'heartfeature_index1343', 'time', 'dayofweek', 'timeofweek']\n",
      "prediction accuracy based on test data is 0.660559 \n",
      "['stepsfeature_index671', 'stepsfeature_index672', 'stepsfeature_index1343', 'heartfeature_index671', 'heartfeature_index672', 'heartfeature_index1343', 'time', 'dayofweek', 'timeofweek']\n",
      "prediction accuracy based on test data is 0.660559 \n",
      "['stepsfeature_index671', 'stepsfeature_index672', 'stepsfeature_index1343', 'heartfeature_index671', 'heartfeature_index672', 'heartfeature_index1343', 'time', 'dayofweek', 'timeofweek']\n",
      "prediction accuracy based on test data is 0.660559 \n",
      "['stepsfeature_index671', 'stepsfeature_index672', 'stepsfeature_index1343', 'heartfeature_index671', 'heartfeature_index672', 'heartfeature_index1343', 'time', 'dayofweek', 'timeofweek']\n",
      "prediction accuracy based on test data is 0.660559 \n",
      "['stepsfeature_index671', 'stepsfeature_index672', 'stepsfeature_index1343', 'heartfeature_index671', 'heartfeature_index672', 'heartfeature_index1343', 'time', 'dayofweek', 'timeofweek']\n",
      "prediction accuracy based on test data is 0.660559 \n",
      "['stepsfeature_index671', 'stepsfeature_index672', 'stepsfeature_index1343', 'heartfeature_index671', 'heartfeature_index672', 'heartfeature_index1343', 'time', 'dayofweek', 'timeofweek']\n",
      "prediction accuracy based on test data is 0.648987 \n",
      "['stepsfeature_index671', 'stepsfeature_index672', 'stepsfeature_index1343', 'heartfeature_index671', 'heartfeature_index672', 'heartfeature_index1343', 'time', 'dayofweek', 'timeofweek']\n",
      "prediction accuracy based on test data is 0.658631 \n",
      "['stepsfeature_index671', 'stepsfeature_index672', 'stepsfeature_index1343', 'heartfeature_index671', 'heartfeature_index672', 'heartfeature_index1343', 'time', 'dayofweek', 'timeofweek']\n",
      "prediction accuracy based on test data is 0.658631 \n",
      "['stepsfeature_index671', 'stepsfeature_index672', 'stepsfeature_index1343', 'heartfeature_index671', 'heartfeature_index672', 'heartfeature_index1343', 'time', 'dayofweek', 'timeofweek']\n",
      "prediction accuracy based on test data is 0.655738 \n",
      "['stepsfeature_index671', 'stepsfeature_index672', 'stepsfeature_index1343', 'heartfeature_index671', 'heartfeature_index672', 'heartfeature_index1343', 'time', 'dayofweek', 'timeofweek']\n",
      "prediction accuracy based on test data is 0.661524 \n",
      "['stepsfeature_index671', 'stepsfeature_index672', 'stepsfeature_index1343', 'heartfeature_index671', 'heartfeature_index672', 'heartfeature_index1343', 'time', 'dayofweek', 'timeofweek']\n",
      "prediction accuracy based on test data is 0.660559 \n",
      "['stepsfeature_index671', 'stepsfeature_index672', 'stepsfeature_index1343', 'heartfeature_index671', 'heartfeature_index672', 'heartfeature_index1343', 'time', 'dayofweek', 'timeofweek']\n",
      "prediction accuracy based on test data is 0.660559 \n",
      "['stepsfeature_index671', 'stepsfeature_index672', 'stepsfeature_index1343', 'heartfeature_index671', 'heartfeature_index672', 'heartfeature_index1343', 'time', 'dayofweek', 'timeofweek']\n",
      "prediction accuracy based on test data is 0.660559 \n",
      "['stepsfeature_index671', 'stepsfeature_index672', 'stepsfeature_index1343', 'heartfeature_index671', 'heartfeature_index672', 'heartfeature_index1343', 'time', 'dayofweek', 'timeofweek']\n",
      "prediction accuracy based on test data is 0.660559 \n",
      "['stepsfeature_index671', 'stepsfeature_index672', 'stepsfeature_index1343', 'heartfeature_index671', 'heartfeature_index672', 'heartfeature_index1343', 'time', 'dayofweek', 'timeofweek']\n",
      "prediction accuracy based on test data is 0.660559 \n",
      "['stepsfeature_index671', 'stepsfeature_index672', 'stepsfeature_index1343', 'heartfeature_index671', 'heartfeature_index672', 'heartfeature_index1343', 'time', 'dayofweek', 'timeofweek']\n",
      "prediction accuracy based on test data is 0.660559 \n",
      "['stepsfeature_index671', 'stepsfeature_index672', 'stepsfeature_index1343', 'heartfeature_index671', 'heartfeature_index672', 'heartfeature_index1343', 'time', 'dayofweek', 'timeofweek']\n",
      "prediction accuracy based on test data is 0.660559 \n",
      "['stepsfeature_index671', 'stepsfeature_index672', 'stepsfeature_index1343', 'heartfeature_index671', 'heartfeature_index672', 'heartfeature_index1343', 'time', 'dayofweek', 'timeofweek']\n",
      "prediction accuracy based on test data is 0.660559 \n",
      "['stepsfeature_index671', 'stepsfeature_index672', 'stepsfeature_index1343', 'heartfeature_index671', 'heartfeature_index672', 'heartfeature_index1343', 'time', 'dayofweek', 'timeofweek']\n",
      "prediction accuracy based on test data is 0.660559 \n",
      "['stepsfeature_index671', 'stepsfeature_index672', 'stepsfeature_index1343', 'heartfeature_index671', 'heartfeature_index672', 'heartfeature_index1343', 'time', 'dayofweek', 'timeofweek']\n",
      "prediction accuracy based on test data is 0.655738 \n",
      "['stepsfeature_index671', 'stepsfeature_index672', 'stepsfeature_index1343', 'heartfeature_index671', 'heartfeature_index672', 'heartfeature_index1343', 'time', 'dayofweek', 'timeofweek']\n",
      "prediction accuracy based on test data is 0.656702 \n",
      "['stepsfeature_index671', 'stepsfeature_index672', 'stepsfeature_index1343', 'heartfeature_index671', 'heartfeature_index672', 'heartfeature_index1343', 'time', 'dayofweek', 'timeofweek']\n",
      "prediction accuracy based on test data is 0.656702 \n",
      "['stepsfeature_index671', 'stepsfeature_index672', 'stepsfeature_index1343', 'heartfeature_index671', 'heartfeature_index672', 'heartfeature_index1343', 'time', 'dayofweek', 'timeofweek']\n",
      "prediction accuracy based on test data is 0.656702 \n",
      "['stepsfeature_index671', 'stepsfeature_index672', 'stepsfeature_index1343', 'heartfeature_index671', 'heartfeature_index672', 'heartfeature_index1343', 'time', 'dayofweek', 'timeofweek']\n",
      "prediction accuracy based on test data is 0.656702 \n",
      "['stepsfeature_index671', 'stepsfeature_index672', 'stepsfeature_index1343', 'heartfeature_index671', 'heartfeature_index672', 'heartfeature_index1343', 'time', 'dayofweek', 'timeofweek']\n",
      "prediction accuracy based on test data is 0.656702 \n",
      "['stepsfeature_index671', 'stepsfeature_index672', 'stepsfeature_index1343', 'heartfeature_index671', 'heartfeature_index672', 'heartfeature_index1343', 'time', 'dayofweek', 'timeofweek']\n",
      "prediction accuracy based on test data is 0.656702 \n",
      "['stepsfeature_index671', 'stepsfeature_index672', 'stepsfeature_index1343', 'heartfeature_index671', 'heartfeature_index672', 'heartfeature_index1343', 'time', 'dayofweek', 'timeofweek']\n",
      "prediction accuracy based on test data is 0.656702 \n",
      "['stepsfeature_index671', 'stepsfeature_index672', 'stepsfeature_index1343', 'heartfeature_index671', 'heartfeature_index672', 'heartfeature_index1343', 'time', 'dayofweek', 'timeofweek']\n",
      "prediction accuracy based on test data is 0.656702 \n",
      "['stepsfeature_index671', 'stepsfeature_index672', 'stepsfeature_index1343', 'heartfeature_index671', 'heartfeature_index672', 'heartfeature_index1343', 'time', 'dayofweek', 'timeofweek']\n",
      "prediction accuracy based on test data is 0.655738 \n",
      "['stepsfeature_index671', 'stepsfeature_index672', 'stepsfeature_index1343', 'heartfeature_index671', 'heartfeature_index672', 'heartfeature_index1343', 'time', 'dayofweek', 'timeofweek']\n",
      "prediction accuracy based on test data is 0.656702 \n",
      "['stepsfeature_index671', 'stepsfeature_index672', 'stepsfeature_index1343', 'heartfeature_index671', 'heartfeature_index672', 'heartfeature_index1343', 'time', 'dayofweek', 'timeofweek']\n",
      "prediction accuracy based on test data is 0.656702 \n",
      "['stepsfeature_index671', 'stepsfeature_index672', 'stepsfeature_index1343', 'heartfeature_index671', 'heartfeature_index672', 'heartfeature_index1343', 'time', 'dayofweek', 'timeofweek']\n",
      "prediction accuracy based on test data is 0.656702 \n",
      "['stepsfeature_index671', 'stepsfeature_index672', 'stepsfeature_index1343', 'heartfeature_index671', 'heartfeature_index672', 'heartfeature_index1343', 'time', 'dayofweek', 'timeofweek']\n",
      "prediction accuracy based on test data is 0.656702 \n",
      "['stepsfeature_index671', 'stepsfeature_index672', 'stepsfeature_index1343', 'heartfeature_index671', 'heartfeature_index672', 'heartfeature_index1343', 'time', 'dayofweek', 'timeofweek']\n",
      "prediction accuracy based on test data is 0.656702 \n",
      "['stepsfeature_index671', 'stepsfeature_index672', 'stepsfeature_index1343', 'heartfeature_index671', 'heartfeature_index672', 'heartfeature_index1343', 'time', 'dayofweek', 'timeofweek']\n",
      "prediction accuracy based on test data is 0.656702 \n",
      "['stepsfeature_index671', 'stepsfeature_index672', 'stepsfeature_index1343', 'heartfeature_index671', 'heartfeature_index672', 'heartfeature_index1343', 'time', 'dayofweek', 'timeofweek']\n",
      "prediction accuracy based on test data is 0.656702 \n",
      "['stepsfeature_index671', 'stepsfeature_index672', 'stepsfeature_index1343', 'heartfeature_index671', 'heartfeature_index672', 'heartfeature_index1343', 'time', 'dayofweek', 'timeofweek']\n",
      "prediction accuracy based on test data is 0.656702 \n",
      "['stepsfeature_index671', 'stepsfeature_index672', 'stepsfeature_index1343', 'heartfeature_index671', 'heartfeature_index672', 'heartfeature_index1343', 'time', 'dayofweek', 'timeofweek']\n",
      "prediction accuracy based on test data is 0.659595 \n",
      "['stepsfeature_index671', 'stepsfeature_index672', 'stepsfeature_index1343', 'heartfeature_index671', 'heartfeature_index672', 'heartfeature_index1343', 'time', 'dayofweek', 'timeofweek']\n",
      "prediction accuracy based on test data is 0.657666 \n",
      "['stepsfeature_index671', 'stepsfeature_index672', 'stepsfeature_index1343', 'heartfeature_index671', 'heartfeature_index672', 'heartfeature_index1343', 'time', 'dayofweek', 'timeofweek']\n",
      "prediction accuracy based on test data is 0.655738 \n",
      "['stepsfeature_index671', 'stepsfeature_index672', 'stepsfeature_index1343', 'heartfeature_index671', 'heartfeature_index672', 'heartfeature_index1343', 'time', 'dayofweek', 'timeofweek']\n",
      "prediction accuracy based on test data is 0.655738 \n",
      "['stepsfeature_index671', 'stepsfeature_index672', 'stepsfeature_index1343', 'heartfeature_index671', 'heartfeature_index672', 'heartfeature_index1343', 'time', 'dayofweek', 'timeofweek']\n",
      "prediction accuracy based on test data is 0.655738 \n",
      "['stepsfeature_index671', 'stepsfeature_index672', 'stepsfeature_index1343', 'heartfeature_index671', 'heartfeature_index672', 'heartfeature_index1343', 'time', 'dayofweek', 'timeofweek']\n",
      "prediction accuracy based on test data is 0.655738 \n",
      "['stepsfeature_index671', 'stepsfeature_index672', 'stepsfeature_index1343', 'heartfeature_index671', 'heartfeature_index672', 'heartfeature_index1343', 'time', 'dayofweek', 'timeofweek']\n",
      "prediction accuracy based on test data is 0.655738 \n",
      "['stepsfeature_index671', 'stepsfeature_index672', 'stepsfeature_index1343', 'heartfeature_index671', 'heartfeature_index672', 'heartfeature_index1343', 'time', 'dayofweek', 'timeofweek']\n",
      "prediction accuracy based on test data is 0.655738 \n",
      "['stepsfeature_index671', 'stepsfeature_index672', 'stepsfeature_index1343', 'heartfeature_index671', 'heartfeature_index672', 'heartfeature_index1343', 'time', 'dayofweek', 'timeofweek']\n",
      "prediction accuracy based on test data is 0.655738 \n",
      "['stepsfeature_index671', 'stepsfeature_index672', 'stepsfeature_index1343', 'heartfeature_index671', 'heartfeature_index672', 'heartfeature_index1343', 'time', 'dayofweek', 'timeofweek']\n",
      "prediction accuracy based on test data is 0.655738 \n",
      "['stepsfeature_index671', 'stepsfeature_index672', 'stepsfeature_index1343', 'heartfeature_index671', 'heartfeature_index672', 'heartfeature_index1343', 'time', 'dayofweek', 'timeofweek']\n",
      "prediction accuracy based on test data is 0.655738 \n",
      "['stepsfeature_index671', 'stepsfeature_index672', 'stepsfeature_index1343', 'heartfeature_index671', 'heartfeature_index672', 'heartfeature_index1343', 'time', 'dayofweek', 'timeofweek']\n",
      "prediction accuracy based on test data is 0.655738 \n",
      "['stepsfeature_index671', 'stepsfeature_index672', 'stepsfeature_index1343', 'heartfeature_index671', 'heartfeature_index672', 'heartfeature_index1343', 'time', 'dayofweek', 'timeofweek']\n",
      "prediction accuracy based on test data is 0.655738 \n",
      "['stepsfeature_index671', 'stepsfeature_index672', 'stepsfeature_index1343', 'heartfeature_index671', 'heartfeature_index672', 'heartfeature_index1343', 'time', 'dayofweek', 'timeofweek']\n",
      "prediction accuracy based on test data is 0.655738 \n",
      "['stepsfeature_index671', 'stepsfeature_index672', 'stepsfeature_index1343', 'heartfeature_index671', 'heartfeature_index672', 'heartfeature_index1343', 'time', 'dayofweek', 'timeofweek']\n",
      "prediction accuracy based on test data is 0.655738 \n",
      "['stepsfeature_index671', 'stepsfeature_index672', 'stepsfeature_index1343', 'heartfeature_index671', 'heartfeature_index672', 'heartfeature_index1343', 'time', 'dayofweek', 'timeofweek']\n",
      "prediction accuracy based on test data is 0.655738 \n",
      "['stepsfeature_index671', 'stepsfeature_index672', 'stepsfeature_index1343', 'heartfeature_index671', 'heartfeature_index672', 'heartfeature_index1343', 'time', 'dayofweek', 'timeofweek']\n",
      "prediction accuracy based on test data is 0.655738 \n",
      "['stepsfeature_index671', 'stepsfeature_index672', 'stepsfeature_index1343', 'heartfeature_index671', 'heartfeature_index672', 'heartfeature_index1343', 'time', 'dayofweek', 'timeofweek']\n",
      "prediction accuracy based on test data is 0.655738 \n",
      "['stepsfeature_index671', 'stepsfeature_index672', 'stepsfeature_index1343', 'heartfeature_index671', 'heartfeature_index672', 'heartfeature_index1343', 'time', 'dayofweek', 'timeofweek']\n",
      "prediction accuracy based on test data is 0.655738 \n",
      "0.661523625844\n"
     ]
    }
   ],
   "source": [
    "# Adaboost \n",
    "from sklearn.ensemble import AdaBoostClassifier\n",
    "from sklearn.tree import DecisionTreeClassifier\n",
    "# \n",
    "ada_score_lst = []\n",
    "for i in range(10, 100):\n",
    "    ada_method = AdaBoostClassifier(DecisionTreeClassifier(max_depth=1), algorithm=\"SAMME\", n_estimators=i)\n",
    "    adaboost_model, adaboost_feature = get_model(ndata1_train, ndata1_features, 'inactive', ada_method, \n",
    "                                                 optimized=False)\n",
    "    ada_predicted, ada_accuracy = get_prediction(ndata1_test, adaboost_model, 'inactive', adaboost_feature)\n",
    "    ada_score_lst.append(ada_accuracy)\n",
    "\n",
    "print(mean(ada_score_lst))  # 0.661523625844"
   ]
  },
  {
   "cell_type": "code",
   "execution_count": null,
   "metadata": {
    "collapsed": true
   },
   "outputs": [],
   "source": []
  },
  {
   "cell_type": "code",
   "execution_count": null,
   "metadata": {
    "collapsed": false
   },
   "outputs": [],
   "source": [
    "\n"
   ]
  },
  {
   "cell_type": "markdown",
   "metadata": {},
   "source": []
  }
 ],
 "metadata": {
  "anaconda-cloud": {},
  "kernelspec": {
   "display_name": "Python [default]",
   "language": "python",
   "name": "python3"
  },
  "language_info": {
   "codemirror_mode": {
    "name": "ipython",
    "version": 3
   },
   "file_extension": ".py",
   "mimetype": "text/x-python",
   "name": "python",
   "nbconvert_exporter": "python",
   "pygments_lexer": "ipython3",
   "version": "3.5.2"
  }
 },
 "nbformat": 4,
 "nbformat_minor": 1
}
