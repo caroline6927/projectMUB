{
 "cells": [
  {
   "cell_type": "code",
   "execution_count": 1,
   "metadata": {
    "collapsed": false
   },
   "outputs": [],
   "source": [
    "import pandas as pd\n",
    "import numpy as np\n",
    "import random\n",
    "from lib.get_plots import *\n",
    "from lib.sba_transform import *\n",
    "from lib.model_pipeline import *\n",
    "# from lib.dt_model import *\n",
    "from lib.demo_model_pipeline import * "
   ]
  },
  {
   "cell_type": "code",
   "execution_count": 2,
   "metadata": {
    "collapsed": false
   },
   "outputs": [
    {
     "name": "stdout",
     "output_type": "stream",
     "text": [
      "Populating the interactive namespace from numpy and matplotlib\n"
     ]
    },
    {
     "name": "stderr",
     "output_type": "stream",
     "text": [
      "/Users/ywang/anaconda/lib/python3.5/site-packages/IPython/core/magics/pylab.py:161: UserWarning:\n",
      "\n",
      "pylab import has clobbered these variables: ['random', 'figure']\n",
      "`%matplotlib` prevents importing * from pylab and numpy\n",
      "\n"
     ]
    }
   ],
   "source": [
    "%pylab inline\n",
    "pylab.rcParams['figure.figsize'] = (20, 7)   # caution: plt namespace may be taken"
   ]
  },
  {
   "cell_type": "code",
   "execution_count": 16,
   "metadata": {
    "collapsed": false,
    "scrolled": true
   },
   "outputs": [
    {
     "name": "stdout",
     "output_type": "stream",
     "text": [
      "             heart       steps\n",
      "count  5950.000000  5950.00000\n",
      "mean     71.840504    93.72084\n",
      "std      16.009608   228.97116\n",
      "min      43.000000     0.00000\n",
      "25%      58.000000     0.00000\n",
      "50%      70.000000     0.00000\n",
      "75%      80.000000    49.00000\n",
      "max     156.000000  2306.00000\n"
     ]
    }
   ],
   "source": [
    "data = pd.read_csv('demo/fitbituser.csv', parse_dates=['date_time'])\n",
    "data = filter_na(data)\n",
    "print(data.describe())"
   ]
  },
  {
   "cell_type": "code",
   "execution_count": 18,
   "metadata": {
    "collapsed": false
   },
   "outputs": [
    {
     "name": "stdout",
     "output_type": "stream",
     "text": [
      "             heart       steps\n",
      "count  5950.000000  5950.00000\n",
      "mean     71.840504    93.72084\n",
      "std      16.009608   228.97116\n",
      "min      43.000000     0.00000\n",
      "25%      58.000000     0.00000\n",
      "50%      70.000000     0.00000\n",
      "75%      80.000000    49.00000\n",
      "max     156.000000  2306.00000\n"
     ]
    },
    {
     "data": {
      "text/plain": [
       "33  6     7553\n",
       "34  0    15092\n",
       "    1    11462\n",
       "    2    11569\n",
       "    3     9359\n",
       "    4    14537\n",
       "    5     1517\n",
       "    6     4547\n",
       "35  0    10626\n",
       "    1     5015\n",
       "    2     8982\n",
       "    3     9840\n",
       "    4    12313\n",
       "    5     6472\n",
       "    6     2744\n",
       "36  0     9480\n",
       "    1     6880\n",
       "    2    10413\n",
       "    3     6772\n",
       "    4    14872\n",
       "    5    10601\n",
       "    6     3949\n",
       "37  0     3887\n",
       "    1     3422\n",
       "    2     7215\n",
       "    3     2602\n",
       "    4    11723\n",
       "    5     2145\n",
       "    6     3535\n",
       "38  0    20415\n",
       "         ...  \n",
       "39  2     3138\n",
       "    3     8299\n",
       "    4    13617\n",
       "    5     6885\n",
       "    6     3367\n",
       "40  0     7239\n",
       "    1     5221\n",
       "    2    12852\n",
       "    3     6606\n",
       "    4    12239\n",
       "    5     3850\n",
       "    6     4826\n",
       "41  0     8919\n",
       "    1     7283\n",
       "    2    13042\n",
       "    3     5389\n",
       "    4     9710\n",
       "    5     7564\n",
       "    6     3322\n",
       "42  0    12132\n",
       "    1     9116\n",
       "    2    13298\n",
       "    3     5612\n",
       "    4    10476\n",
       "    5     2298\n",
       "    6     5760\n",
       "43  0    10694\n",
       "    1     8802\n",
       "    2     7746\n",
       "    3    15261\n",
       "Name: steps, dtype: int64"
      ]
     },
     "execution_count": 18,
     "metadata": {},
     "output_type": "execute_result"
    }
   ],
   "source": [
    "data = pd.read_csv('demo/fitbituser.csv', parse_dates=['date_time'], dayfirst=False)\n",
    "data = filter_na(data)\n",
    "print(data.describe())\n",
    "data.set_index(data.date_time, inplace=True, drop=True)\n",
    "data.groupby(by=[data.index.week, data.index.dayofweek])['steps'].sum()"
   ]
  },
  {
   "cell_type": "markdown",
   "metadata": {},
   "source": [
    "# Fill missing data with different methods"
   ]
  },
  {
   "cell_type": "code",
   "execution_count": 7,
   "metadata": {
    "collapsed": false
   },
   "outputs": [],
   "source": [
    "ndata1 = fill_missing(data, method='mean')\n",
    "ndata2 = fill_missing(data, method='rndminmax')\n",
    "ndata3 = fill_missing(data, method='rnd50zeromax')\n",
    "ndata4 = fill_missing(data, method='zero')\n",
    "ndata5 = fill_missing(data, method='max')\n",
    "ndatacontrol = fill_missing(data, method='none')"
   ]
  },
  {
   "cell_type": "code",
   "execution_count": 8,
   "metadata": {
    "collapsed": false
   },
   "outputs": [
    {
     "data": {
      "text/html": [
       "<div>\n",
       "<table border=\"1\" class=\"dataframe\">\n",
       "  <thead>\n",
       "    <tr style=\"text-align: right;\">\n",
       "      <th></th>\n",
       "      <th>date_time</th>\n",
       "      <th>heart</th>\n",
       "      <th>steps</th>\n",
       "    </tr>\n",
       "  </thead>\n",
       "  <tbody>\n",
       "    <tr>\n",
       "      <th>0</th>\n",
       "      <td>2016-08-21 00:00:00</td>\n",
       "      <td>74.000000</td>\n",
       "      <td>0.00000</td>\n",
       "    </tr>\n",
       "    <tr>\n",
       "      <th>1</th>\n",
       "      <td>2016-08-21 00:15:00</td>\n",
       "      <td>71.840504</td>\n",
       "      <td>93.72084</td>\n",
       "    </tr>\n",
       "    <tr>\n",
       "      <th>2</th>\n",
       "      <td>2016-08-21 00:30:00</td>\n",
       "      <td>71.840504</td>\n",
       "      <td>93.72084</td>\n",
       "    </tr>\n",
       "    <tr>\n",
       "      <th>3</th>\n",
       "      <td>2016-08-21 00:45:00</td>\n",
       "      <td>71.840504</td>\n",
       "      <td>93.72084</td>\n",
       "    </tr>\n",
       "    <tr>\n",
       "      <th>4</th>\n",
       "      <td>2016-08-21 01:00:00</td>\n",
       "      <td>71.840504</td>\n",
       "      <td>93.72084</td>\n",
       "    </tr>\n",
       "    <tr>\n",
       "      <th>5</th>\n",
       "      <td>2016-08-21 01:15:00</td>\n",
       "      <td>71.840504</td>\n",
       "      <td>93.72084</td>\n",
       "    </tr>\n",
       "    <tr>\n",
       "      <th>6</th>\n",
       "      <td>2016-08-21 01:30:00</td>\n",
       "      <td>71.840504</td>\n",
       "      <td>93.72084</td>\n",
       "    </tr>\n",
       "    <tr>\n",
       "      <th>7</th>\n",
       "      <td>2016-08-21 01:45:00</td>\n",
       "      <td>71.840504</td>\n",
       "      <td>93.72084</td>\n",
       "    </tr>\n",
       "    <tr>\n",
       "      <th>8</th>\n",
       "      <td>2016-08-21 02:00:00</td>\n",
       "      <td>71.840504</td>\n",
       "      <td>93.72084</td>\n",
       "    </tr>\n",
       "    <tr>\n",
       "      <th>9</th>\n",
       "      <td>2016-08-21 02:15:00</td>\n",
       "      <td>71.840504</td>\n",
       "      <td>93.72084</td>\n",
       "    </tr>\n",
       "    <tr>\n",
       "      <th>10</th>\n",
       "      <td>2016-08-21 02:30:00</td>\n",
       "      <td>71.840504</td>\n",
       "      <td>93.72084</td>\n",
       "    </tr>\n",
       "    <tr>\n",
       "      <th>11</th>\n",
       "      <td>2016-08-21 02:45:00</td>\n",
       "      <td>71.840504</td>\n",
       "      <td>93.72084</td>\n",
       "    </tr>\n",
       "    <tr>\n",
       "      <th>12</th>\n",
       "      <td>2016-08-21 03:00:00</td>\n",
       "      <td>71.840504</td>\n",
       "      <td>93.72084</td>\n",
       "    </tr>\n",
       "    <tr>\n",
       "      <th>13</th>\n",
       "      <td>2016-08-21 03:15:00</td>\n",
       "      <td>71.840504</td>\n",
       "      <td>93.72084</td>\n",
       "    </tr>\n",
       "    <tr>\n",
       "      <th>14</th>\n",
       "      <td>2016-08-21 03:30:00</td>\n",
       "      <td>71.840504</td>\n",
       "      <td>93.72084</td>\n",
       "    </tr>\n",
       "    <tr>\n",
       "      <th>15</th>\n",
       "      <td>2016-08-21 03:45:00</td>\n",
       "      <td>71.840504</td>\n",
       "      <td>93.72084</td>\n",
       "    </tr>\n",
       "    <tr>\n",
       "      <th>16</th>\n",
       "      <td>2016-08-21 04:00:00</td>\n",
       "      <td>71.840504</td>\n",
       "      <td>93.72084</td>\n",
       "    </tr>\n",
       "    <tr>\n",
       "      <th>17</th>\n",
       "      <td>2016-08-21 04:15:00</td>\n",
       "      <td>71.840504</td>\n",
       "      <td>93.72084</td>\n",
       "    </tr>\n",
       "    <tr>\n",
       "      <th>18</th>\n",
       "      <td>2016-08-21 04:30:00</td>\n",
       "      <td>71.840504</td>\n",
       "      <td>93.72084</td>\n",
       "    </tr>\n",
       "    <tr>\n",
       "      <th>19</th>\n",
       "      <td>2016-08-21 04:45:00</td>\n",
       "      <td>71.840504</td>\n",
       "      <td>93.72084</td>\n",
       "    </tr>\n",
       "    <tr>\n",
       "      <th>20</th>\n",
       "      <td>2016-08-21 05:00:00</td>\n",
       "      <td>71.840504</td>\n",
       "      <td>93.72084</td>\n",
       "    </tr>\n",
       "    <tr>\n",
       "      <th>21</th>\n",
       "      <td>2016-08-21 05:15:00</td>\n",
       "      <td>71.840504</td>\n",
       "      <td>93.72084</td>\n",
       "    </tr>\n",
       "    <tr>\n",
       "      <th>22</th>\n",
       "      <td>2016-08-21 05:30:00</td>\n",
       "      <td>71.840504</td>\n",
       "      <td>93.72084</td>\n",
       "    </tr>\n",
       "    <tr>\n",
       "      <th>23</th>\n",
       "      <td>2016-08-21 05:45:00</td>\n",
       "      <td>71.840504</td>\n",
       "      <td>93.72084</td>\n",
       "    </tr>\n",
       "    <tr>\n",
       "      <th>24</th>\n",
       "      <td>2016-08-21 06:00:00</td>\n",
       "      <td>71.840504</td>\n",
       "      <td>93.72084</td>\n",
       "    </tr>\n",
       "    <tr>\n",
       "      <th>25</th>\n",
       "      <td>2016-08-21 06:15:00</td>\n",
       "      <td>71.840504</td>\n",
       "      <td>93.72084</td>\n",
       "    </tr>\n",
       "    <tr>\n",
       "      <th>26</th>\n",
       "      <td>2016-08-21 06:30:00</td>\n",
       "      <td>71.840504</td>\n",
       "      <td>93.72084</td>\n",
       "    </tr>\n",
       "    <tr>\n",
       "      <th>27</th>\n",
       "      <td>2016-08-21 06:45:00</td>\n",
       "      <td>71.840504</td>\n",
       "      <td>93.72084</td>\n",
       "    </tr>\n",
       "    <tr>\n",
       "      <th>28</th>\n",
       "      <td>2016-08-21 07:00:00</td>\n",
       "      <td>71.840504</td>\n",
       "      <td>93.72084</td>\n",
       "    </tr>\n",
       "    <tr>\n",
       "      <th>29</th>\n",
       "      <td>2016-08-21 07:15:00</td>\n",
       "      <td>71.840504</td>\n",
       "      <td>93.72084</td>\n",
       "    </tr>\n",
       "    <tr>\n",
       "      <th>...</th>\n",
       "      <td>...</td>\n",
       "      <td>...</td>\n",
       "      <td>...</td>\n",
       "    </tr>\n",
       "    <tr>\n",
       "      <th>6498</th>\n",
       "      <td>2016-10-27 16:30:00</td>\n",
       "      <td>63.000000</td>\n",
       "      <td>0.00000</td>\n",
       "    </tr>\n",
       "    <tr>\n",
       "      <th>6499</th>\n",
       "      <td>2016-10-27 16:45:00</td>\n",
       "      <td>63.000000</td>\n",
       "      <td>0.00000</td>\n",
       "    </tr>\n",
       "    <tr>\n",
       "      <th>6500</th>\n",
       "      <td>2016-10-27 17:00:00</td>\n",
       "      <td>67.000000</td>\n",
       "      <td>0.00000</td>\n",
       "    </tr>\n",
       "    <tr>\n",
       "      <th>6501</th>\n",
       "      <td>2016-10-27 17:15:00</td>\n",
       "      <td>66.000000</td>\n",
       "      <td>0.00000</td>\n",
       "    </tr>\n",
       "    <tr>\n",
       "      <th>6502</th>\n",
       "      <td>2016-10-27 17:30:00</td>\n",
       "      <td>65.000000</td>\n",
       "      <td>0.00000</td>\n",
       "    </tr>\n",
       "    <tr>\n",
       "      <th>6503</th>\n",
       "      <td>2016-10-27 17:45:00</td>\n",
       "      <td>79.000000</td>\n",
       "      <td>209.00000</td>\n",
       "    </tr>\n",
       "    <tr>\n",
       "      <th>6504</th>\n",
       "      <td>2016-10-27 18:00:00</td>\n",
       "      <td>82.000000</td>\n",
       "      <td>190.00000</td>\n",
       "    </tr>\n",
       "    <tr>\n",
       "      <th>6505</th>\n",
       "      <td>2016-10-27 18:15:00</td>\n",
       "      <td>87.000000</td>\n",
       "      <td>280.00000</td>\n",
       "    </tr>\n",
       "    <tr>\n",
       "      <th>6506</th>\n",
       "      <td>2016-10-27 18:30:00</td>\n",
       "      <td>93.000000</td>\n",
       "      <td>506.00000</td>\n",
       "    </tr>\n",
       "    <tr>\n",
       "      <th>6507</th>\n",
       "      <td>2016-10-27 18:45:00</td>\n",
       "      <td>88.000000</td>\n",
       "      <td>339.00000</td>\n",
       "    </tr>\n",
       "    <tr>\n",
       "      <th>6508</th>\n",
       "      <td>2016-10-27 19:00:00</td>\n",
       "      <td>70.000000</td>\n",
       "      <td>0.00000</td>\n",
       "    </tr>\n",
       "    <tr>\n",
       "      <th>6509</th>\n",
       "      <td>2016-10-27 19:15:00</td>\n",
       "      <td>65.000000</td>\n",
       "      <td>0.00000</td>\n",
       "    </tr>\n",
       "    <tr>\n",
       "      <th>6510</th>\n",
       "      <td>2016-10-27 19:30:00</td>\n",
       "      <td>65.000000</td>\n",
       "      <td>0.00000</td>\n",
       "    </tr>\n",
       "    <tr>\n",
       "      <th>6511</th>\n",
       "      <td>2016-10-27 19:45:00</td>\n",
       "      <td>64.000000</td>\n",
       "      <td>41.00000</td>\n",
       "    </tr>\n",
       "    <tr>\n",
       "      <th>6512</th>\n",
       "      <td>2016-10-27 20:00:00</td>\n",
       "      <td>80.000000</td>\n",
       "      <td>367.00000</td>\n",
       "    </tr>\n",
       "    <tr>\n",
       "      <th>6513</th>\n",
       "      <td>2016-10-27 20:15:00</td>\n",
       "      <td>70.000000</td>\n",
       "      <td>91.00000</td>\n",
       "    </tr>\n",
       "    <tr>\n",
       "      <th>6514</th>\n",
       "      <td>2016-10-27 20:30:00</td>\n",
       "      <td>69.000000</td>\n",
       "      <td>0.00000</td>\n",
       "    </tr>\n",
       "    <tr>\n",
       "      <th>6515</th>\n",
       "      <td>2016-10-27 20:45:00</td>\n",
       "      <td>79.000000</td>\n",
       "      <td>198.00000</td>\n",
       "    </tr>\n",
       "    <tr>\n",
       "      <th>6516</th>\n",
       "      <td>2016-10-27 21:00:00</td>\n",
       "      <td>130.000000</td>\n",
       "      <td>1708.00000</td>\n",
       "    </tr>\n",
       "    <tr>\n",
       "      <th>6517</th>\n",
       "      <td>2016-10-27 21:15:00</td>\n",
       "      <td>138.000000</td>\n",
       "      <td>1951.00000</td>\n",
       "    </tr>\n",
       "    <tr>\n",
       "      <th>6518</th>\n",
       "      <td>2016-10-27 21:30:00</td>\n",
       "      <td>149.000000</td>\n",
       "      <td>1792.00000</td>\n",
       "    </tr>\n",
       "    <tr>\n",
       "      <th>6519</th>\n",
       "      <td>2016-10-27 21:45:00</td>\n",
       "      <td>106.000000</td>\n",
       "      <td>738.00000</td>\n",
       "    </tr>\n",
       "    <tr>\n",
       "      <th>6520</th>\n",
       "      <td>2016-10-27 22:00:00</td>\n",
       "      <td>99.000000</td>\n",
       "      <td>0.00000</td>\n",
       "    </tr>\n",
       "    <tr>\n",
       "      <th>6521</th>\n",
       "      <td>2016-10-27 22:15:00</td>\n",
       "      <td>115.000000</td>\n",
       "      <td>0.00000</td>\n",
       "    </tr>\n",
       "    <tr>\n",
       "      <th>6522</th>\n",
       "      <td>2016-10-27 22:30:00</td>\n",
       "      <td>102.000000</td>\n",
       "      <td>0.00000</td>\n",
       "    </tr>\n",
       "    <tr>\n",
       "      <th>6523</th>\n",
       "      <td>2016-10-27 22:45:00</td>\n",
       "      <td>71.840504</td>\n",
       "      <td>93.72084</td>\n",
       "    </tr>\n",
       "    <tr>\n",
       "      <th>6524</th>\n",
       "      <td>2016-10-27 23:00:00</td>\n",
       "      <td>76.000000</td>\n",
       "      <td>0.00000</td>\n",
       "    </tr>\n",
       "    <tr>\n",
       "      <th>6525</th>\n",
       "      <td>2016-10-27 23:15:00</td>\n",
       "      <td>66.000000</td>\n",
       "      <td>0.00000</td>\n",
       "    </tr>\n",
       "    <tr>\n",
       "      <th>6526</th>\n",
       "      <td>2016-10-27 23:30:00</td>\n",
       "      <td>67.000000</td>\n",
       "      <td>0.00000</td>\n",
       "    </tr>\n",
       "    <tr>\n",
       "      <th>6527</th>\n",
       "      <td>2016-10-27 23:45:00</td>\n",
       "      <td>61.000000</td>\n",
       "      <td>0.00000</td>\n",
       "    </tr>\n",
       "  </tbody>\n",
       "</table>\n",
       "<p>6528 rows × 3 columns</p>\n",
       "</div>"
      ],
      "text/plain": [
       "               date_time       heart       steps\n",
       "0    2016-08-21 00:00:00   74.000000     0.00000\n",
       "1    2016-08-21 00:15:00   71.840504    93.72084\n",
       "2    2016-08-21 00:30:00   71.840504    93.72084\n",
       "3    2016-08-21 00:45:00   71.840504    93.72084\n",
       "4    2016-08-21 01:00:00   71.840504    93.72084\n",
       "5    2016-08-21 01:15:00   71.840504    93.72084\n",
       "6    2016-08-21 01:30:00   71.840504    93.72084\n",
       "7    2016-08-21 01:45:00   71.840504    93.72084\n",
       "8    2016-08-21 02:00:00   71.840504    93.72084\n",
       "9    2016-08-21 02:15:00   71.840504    93.72084\n",
       "10   2016-08-21 02:30:00   71.840504    93.72084\n",
       "11   2016-08-21 02:45:00   71.840504    93.72084\n",
       "12   2016-08-21 03:00:00   71.840504    93.72084\n",
       "13   2016-08-21 03:15:00   71.840504    93.72084\n",
       "14   2016-08-21 03:30:00   71.840504    93.72084\n",
       "15   2016-08-21 03:45:00   71.840504    93.72084\n",
       "16   2016-08-21 04:00:00   71.840504    93.72084\n",
       "17   2016-08-21 04:15:00   71.840504    93.72084\n",
       "18   2016-08-21 04:30:00   71.840504    93.72084\n",
       "19   2016-08-21 04:45:00   71.840504    93.72084\n",
       "20   2016-08-21 05:00:00   71.840504    93.72084\n",
       "21   2016-08-21 05:15:00   71.840504    93.72084\n",
       "22   2016-08-21 05:30:00   71.840504    93.72084\n",
       "23   2016-08-21 05:45:00   71.840504    93.72084\n",
       "24   2016-08-21 06:00:00   71.840504    93.72084\n",
       "25   2016-08-21 06:15:00   71.840504    93.72084\n",
       "26   2016-08-21 06:30:00   71.840504    93.72084\n",
       "27   2016-08-21 06:45:00   71.840504    93.72084\n",
       "28   2016-08-21 07:00:00   71.840504    93.72084\n",
       "29   2016-08-21 07:15:00   71.840504    93.72084\n",
       "...                  ...         ...         ...\n",
       "6498 2016-10-27 16:30:00   63.000000     0.00000\n",
       "6499 2016-10-27 16:45:00   63.000000     0.00000\n",
       "6500 2016-10-27 17:00:00   67.000000     0.00000\n",
       "6501 2016-10-27 17:15:00   66.000000     0.00000\n",
       "6502 2016-10-27 17:30:00   65.000000     0.00000\n",
       "6503 2016-10-27 17:45:00   79.000000   209.00000\n",
       "6504 2016-10-27 18:00:00   82.000000   190.00000\n",
       "6505 2016-10-27 18:15:00   87.000000   280.00000\n",
       "6506 2016-10-27 18:30:00   93.000000   506.00000\n",
       "6507 2016-10-27 18:45:00   88.000000   339.00000\n",
       "6508 2016-10-27 19:00:00   70.000000     0.00000\n",
       "6509 2016-10-27 19:15:00   65.000000     0.00000\n",
       "6510 2016-10-27 19:30:00   65.000000     0.00000\n",
       "6511 2016-10-27 19:45:00   64.000000    41.00000\n",
       "6512 2016-10-27 20:00:00   80.000000   367.00000\n",
       "6513 2016-10-27 20:15:00   70.000000    91.00000\n",
       "6514 2016-10-27 20:30:00   69.000000     0.00000\n",
       "6515 2016-10-27 20:45:00   79.000000   198.00000\n",
       "6516 2016-10-27 21:00:00  130.000000  1708.00000\n",
       "6517 2016-10-27 21:15:00  138.000000  1951.00000\n",
       "6518 2016-10-27 21:30:00  149.000000  1792.00000\n",
       "6519 2016-10-27 21:45:00  106.000000   738.00000\n",
       "6520 2016-10-27 22:00:00   99.000000     0.00000\n",
       "6521 2016-10-27 22:15:00  115.000000     0.00000\n",
       "6522 2016-10-27 22:30:00  102.000000     0.00000\n",
       "6523 2016-10-27 22:45:00   71.840504    93.72084\n",
       "6524 2016-10-27 23:00:00   76.000000     0.00000\n",
       "6525 2016-10-27 23:15:00   66.000000     0.00000\n",
       "6526 2016-10-27 23:30:00   67.000000     0.00000\n",
       "6527 2016-10-27 23:45:00   61.000000     0.00000\n",
       "\n",
       "[6528 rows x 3 columns]"
      ]
     },
     "execution_count": 8,
     "metadata": {},
     "output_type": "execute_result"
    }
   ],
   "source": [
    "ndata1"
   ]
  },
  {
   "cell_type": "code",
   "execution_count": 5,
   "metadata": {
    "collapsed": false
   },
   "outputs": [],
   "source": [
    "ndata1 = sba_pipeline(ndata1)\n",
    "ndata2 = sba_pipeline(ndata2)\n",
    "ndata3 = sba_pipeline(ndata3)\n",
    "ndata4 = sba_pipeline(ndata4)\n",
    "ndata5 = sba_pipeline(ndata5)\n",
    "ndatacontrol = sba_pipeline(ndatacontrol)"
   ]
  },
  {
   "cell_type": "markdown",
   "metadata": {},
   "source": [
    "# Heatmap"
   ]
  },
  {
   "cell_type": "code",
   "execution_count": null,
   "metadata": {
    "collapsed": false
   },
   "outputs": [],
   "source": [
    "print(ndata1.describe())\n",
    "ndata1.head(5)"
   ]
  },
  {
   "cell_type": "code",
   "execution_count": null,
   "metadata": {
    "collapsed": false
   },
   "outputs": [],
   "source": [
    "get_heatmap(ndata1, 'steps', 'ndata1 steps')\n",
    "get_heatmap(ndata2, 'steps', 'ndata2 steps')\n",
    "get_heatmap(ndata3, 'steps', 'ndata3 steps')\n",
    "get_heatmap(ndata4, 'steps', 'ndata4 steps')\n",
    "get_heatmap(ndata5, 'steps', 'ndata5 steps')\n",
    "get_heatmap(ndatacontrol, 'steps', 'ndatacontrol steps')"
   ]
  },
  {
   "cell_type": "markdown",
   "metadata": {},
   "source": [
    "# Autocorrelation Analysis"
   ]
  },
  {
   "cell_type": "code",
   "execution_count": null,
   "metadata": {
    "collapsed": false,
    "scrolled": false
   },
   "outputs": [],
   "source": [
    "# with sleeping time\n",
    "get_plot_acf(ndatacontrol.steps, 96*21, 96, title='Autocorrelations of steps in ndatacontrol')\n",
    "get_plot_acf(ndata1.steps, 96*21, 96, title='Autocorrelations of steps in ndata1')\n",
    "get_plot_acf(ndata2.steps, 96*21, 96, title='Autocorrelations of steps in ndata2')\n",
    "get_plot_acf(ndata3.steps, 96*21, 96, title='Autocorrelations of steps in ndata3')\n",
    "get_plot_acf(ndata4.steps, 96*21, 96, title='Autocorrelations of steps in ndata4')\n",
    "get_plot_acf(ndata5.steps, 96*21, 96, title='Autocorrelations of steps in ndata5')\n"
   ]
  },
  {
   "cell_type": "code",
   "execution_count": null,
   "metadata": {
    "collapsed": true
   },
   "outputs": [],
   "source": [
    "# without sleeping time\n",
    "get_plot_acf(filter_sleeping_time(ndatacontrol).steps, 68*21, 68, title='Autocorrelations of steps in ndatacontrol')\n",
    "get_plot_acf(filter_sleeping_time(ndata1).steps, 68*21, 68, title='Autocorrelations of steps in ndata1')\n",
    "get_plot_acf(filter_sleeping_time(ndata2).steps, 68*21, 68, title='Autocorrelations of steps in ndata2')\n",
    "get_plot_acf(filter_sleeping_time(ndata3).steps, 68*21, 68, title='Autocorrelations of steps in ndata3')\n",
    "get_plot_acf(filter_sleeping_time(ndata4).steps, 68*21, 68, title='Autocorrelations of steps in ndata4')\n",
    "get_plot_acf(filter_sleeping_time(ndata5).steps, 68*21, 68, title='Autocorrelations of steps in ndata5')"
   ]
  },
  {
   "cell_type": "markdown",
   "metadata": {},
   "source": [
    "# Get features\n",
    "    1) Weekly and daily circadian rhythmicity of physical activity\n",
    "    2) Autocorrelation analysis for feature selection"
   ]
  },
  {
   "cell_type": "code",
   "execution_count": null,
   "metadata": {
    "collapsed": true
   },
   "outputs": [],
   "source": [
    "# 1. circadian rhythmicity features: time, time of week, day of week\n",
    "ndata1_cr, ndata1_cr_features = get_features(ndata1, method='rhythm')\n",
    "# 2. autocorrelated parameters: steps\n",
    "ndata1_ac_s, ndata1_ac_s_features = get_features(ndata1, method='autoco')\n",
    "# 3. autocorrelated parameters: steps and heart\n",
    "ndata1_ac_sh_params = ['steps', 'heart']\n",
    "ndata1_ac_sh, ndata1_ac_sh_features_subset = get_features(ndata1, method='autoco', params=ndata1_ac_sh_params)\n",
    "ndata1_ac_sh_features = [item for sublist in ndata1_ac_sh_features_subset for item in sublist]\n",
    "# 4. circadian rhythmicity features + autocorrelated parameters: time, time of week, day of week, steps, heart\n",
    "ndata1_ac_shr, ndata1_ac_shr_features_subset = get_features(ndata1_ac_sh, method='rhythm')\n",
    "ndata1_ac_shr_features = ndata1_ac_shr_features_subset + ndata1_ac_sh_features"
   ]
  },
  {
   "cell_type": "code",
   "execution_count": null,
   "metadata": {
    "collapsed": false
   },
   "outputs": [],
   "source": [
    "ndata1_ac_shr.head()"
   ]
  },
  {
   "cell_type": "markdown",
   "metadata": {},
   "source": [
    "# Machine Learning Models\n",
    "1. Use rhythm features\n",
    "2. Use autoco features\n",
    "    - 1) steps\n",
    "    - 2) steps, heart"
   ]
  },
  {
   "cell_type": "code",
   "execution_count": 6,
   "metadata": {
    "collapsed": false
   },
   "outputs": [
    {
     "name": "stdout",
     "output_type": "stream",
     "text": [
      "the 671 th index has ac of 0.283958\n",
      "the 672 th index has ac of 0.211081\n",
      "the 1343 th index has ac of 0.230691\n",
      "feature indexes are 671, 672, 1343\n",
      "index 671 is valid\n",
      "index 672 is valid\n",
      "index 1343 is valid\n",
      "the 671 th index has ac of 0.283958\n",
      "the 672 th index has ac of 0.211081\n",
      "the 1343 th index has ac of 0.230691\n",
      "feature indexes are 671, 672, 1343\n",
      "index 671 is valid\n",
      "index 672 is valid\n",
      "index 1343 is valid\n"
     ]
    }
   ],
   "source": [
    "# All features\n",
    "# 4. circadian rhythmicity features + autocorrelated parameters: time, time of week, day of week, steps, heart\n",
    "sh_params = ['steps', 'heart']\n",
    "ndata1, features_subset1 = get_features(ndata1, method='autoco', params=sh_params)\n",
    "features_subset1 = [item for sublist in features_subset1 for item in sublist]\n",
    "ndata1, features_subset2 = get_features(ndata1, method='rhythm')\n",
    "ndata1_features = features_subset1 + features_subset2"
   ]
  },
  {
   "cell_type": "code",
   "execution_count": 7,
   "metadata": {
    "collapsed": false
   },
   "outputs": [
    {
     "data": {
      "text/plain": [
       "['stepsfeature_index671',\n",
       " 'stepsfeature_index672',\n",
       " 'stepsfeature_index1343',\n",
       " 'heartfeature_index671',\n",
       " 'heartfeature_index672',\n",
       " 'heartfeature_index1343',\n",
       " 'time',\n",
       " 'dayofweek',\n",
       " 'timeofweek']"
      ]
     },
     "execution_count": 7,
     "metadata": {},
     "output_type": "execute_result"
    }
   ],
   "source": [
    "ndata1_features"
   ]
  },
  {
   "cell_type": "code",
   "execution_count": 8,
   "metadata": {
    "collapsed": false
   },
   "outputs": [
    {
     "name": "stdout",
     "output_type": "stream",
     "text": [
      "number of observations in training data is: 4148\n",
      "number of observations in testing data is: 1037\n"
     ]
    }
   ],
   "source": [
    "# get train and test\n",
    "ndata1_train, ndata1_test = get_train_test(ndata1, split=0.8)"
   ]
  },
  {
   "cell_type": "code",
   "execution_count": 10,
   "metadata": {
    "collapsed": true
   },
   "outputs": [],
   "source": [
    "from lib.MachineLearningModels import *"
   ]
  },
  {
   "cell_type": "code",
   "execution_count": null,
   "metadata": {
    "collapsed": true
   },
   "outputs": [],
   "source": []
  },
  {
   "cell_type": "code",
   "execution_count": 50,
   "metadata": {
    "collapsed": false
   },
   "outputs": [
    {
     "name": "stdout",
     "output_type": "stream",
     "text": [
      "best features are: 'stepsfeature_index671', 'stepsfeature_index672', 'stepsfeature_index1343', 'heartfeature_index671', 'heartfeature_index672', 'heartfeature_index1343', 'time', 'dayofweek', 'timeofweek'\n",
      "accuracy based on training data is 0.805689\n",
      "['stepsfeature_index671', 'stepsfeature_index672', 'stepsfeature_index1343', 'heartfeature_index671', 'heartfeature_index672', 'heartfeature_index1343', 'time', 'dayofweek', 'timeofweek']\n",
      "prediction accuracy based on test data is 0.593057 \n",
      "prediction score on test data is 0.593057\n",
      "false positive rate is 0.203472\n",
      "false negative rate is 0.203472\n"
     ]
    }
   ],
   "source": [
    "# Decision Tree \n",
    "# 80.59% 58.92%\n",
    "# prediction score on test data is 0.589200\n",
    "# false positive rate is 0.207329\n",
    "# false negative rate is 0.203472\n",
    "ndata1_dt_model, ndata1_dt_model_features = get_selected_model(ndata1_train, \n",
    "                                                               ndata1_features, \n",
    "                                                               'inactive', \n",
    "                                                               'Decision Tree', \n",
    "                                                               optimized=True)\n",
    "ndata1_dt_model_predicted, ndata1_dt_model_accuracy = get_prediction(ndata1_test, \n",
    "                                                                     ndata1_dt_model, \n",
    "                                                                     'inactive', \n",
    "                                                                     ndata1_dt_model_features)\n",
    "get_model_accuracy(ndata1_dt_model_predicted, ndata1_test['inactive'])"
   ]
  },
  {
   "cell_type": "code",
   "execution_count": 49,
   "metadata": {
    "collapsed": false
   },
   "outputs": [
    {
     "name": "stdout",
     "output_type": "stream",
     "text": [
      "['stepsfeature_index672', 'stepsfeature_index1343', 'heartfeature_index671', 'heartfeature_index672', 'heartfeature_index1343', 'time', 'dayofweek', 'timeofweek']\n",
      "prediction accuracy based on test data is 0.628737 \n"
     ]
    }
   ],
   "source": [
    "# Random Forest\n",
    "ndata1_rf_model, ndata1_rf_model_features = get_selected_model(ndata1_train, ndata1_features[1:], 'inactive',\n",
    "                                                               'Random Forest', optimized=False)\n",
    "ndata1_rf_model_predicted, ndata1_rf_model_accuracy = get_prediction(ndata1_test,\n",
    "                                                                     ndata1_rf_model,\n",
    "                                                                     'inactive',\n",
    "                                                                     ndata1_rf_model_features)"
   ]
  },
  {
   "cell_type": "code",
   "execution_count": 71,
   "metadata": {
    "collapsed": false
   },
   "outputs": [
    {
     "name": "stdout",
     "output_type": "stream",
     "text": [
      "['stepsfeature_index671', 'stepsfeature_index672', 'stepsfeature_index1343', 'heartfeature_index671', 'heartfeature_index672', 'heartfeature_index1343', 'time', 'dayofweek', 'timeofweek']\n",
      "prediction accuracy based on test data is 0.633558 \n"
     ]
    }
   ],
   "source": [
    "# Bagging\n",
    "ndata1_bg_model, ndata1_bg_model_features = get_selected_model(ndata1_train, ndata1_features, 'inactive', 'Bagging',\n",
    "                                                               optimized=False)\n",
    "ndata1_bg_model_predicted, ndata1_bg_model_accuracy = get_prediction(ndata1_test,\n",
    "                                                                     ndata1_bg_model,\n",
    "                                                                     'inactive',\n",
    "                                                                     ndata1_bg_model_features)"
   ]
  },
  {
   "cell_type": "code",
   "execution_count": 138,
   "metadata": {
    "collapsed": false
   },
   "outputs": [
    {
     "name": "stdout",
     "output_type": "stream",
     "text": [
      "prediction score on test data is 0.633558\n",
      "false positive rate is 0.165863\n",
      "false negative rate is 0.200579\n"
     ]
    }
   ],
   "source": [
    "get_model_accuracy(ndata1_bg_model_predicted, ndata1_test['inactive'])"
   ]
  },
  {
   "cell_type": "code",
   "execution_count": 102,
   "metadata": {
    "collapsed": true
   },
   "outputs": [
    {
     "name": "stdout",
     "output_type": "stream",
     "text": [
      "['stepsfeature_index671', 'stepsfeature_index672', 'stepsfeature_index1343', 'heartfeature_index671', 'heartfeature_index672', 'heartfeature_index1343', 'time', 'dayofweek', 'timeofweek']\n",
      "prediction accuracy based on test data is 0.657666 \n",
      "['stepsfeature_index671', 'stepsfeature_index672', 'stepsfeature_index1343', 'heartfeature_index671', 'heartfeature_index672', 'heartfeature_index1343', 'time', 'dayofweek', 'timeofweek']\n",
      "prediction accuracy based on test data is 0.656702 \n",
      "['stepsfeature_index671', 'stepsfeature_index672', 'stepsfeature_index1343', 'heartfeature_index671', 'heartfeature_index672', 'heartfeature_index1343', 'time', 'dayofweek', 'timeofweek']\n",
      "prediction accuracy based on test data is 0.660559 \n",
      "['stepsfeature_index671', 'stepsfeature_index672', 'stepsfeature_index1343', 'heartfeature_index671', 'heartfeature_index672', 'heartfeature_index1343', 'time', 'dayofweek', 'timeofweek']\n",
      "prediction accuracy based on test data is 0.657666 \n",
      "['stepsfeature_index671', 'stepsfeature_index672', 'stepsfeature_index1343', 'heartfeature_index671', 'heartfeature_index672', 'heartfeature_index1343', 'time', 'dayofweek', 'timeofweek']\n",
      "prediction accuracy based on test data is 0.649952 \n",
      "['stepsfeature_index671', 'stepsfeature_index672', 'stepsfeature_index1343', 'heartfeature_index671', 'heartfeature_index672', 'heartfeature_index1343', 'time', 'dayofweek', 'timeofweek']\n",
      "prediction accuracy based on test data is 0.660559 \n",
      "['stepsfeature_index671', 'stepsfeature_index672', 'stepsfeature_index1343', 'heartfeature_index671', 'heartfeature_index672', 'heartfeature_index1343', 'time', 'dayofweek', 'timeofweek']\n",
      "prediction accuracy based on test data is 0.660559 \n",
      "['stepsfeature_index671', 'stepsfeature_index672', 'stepsfeature_index1343', 'heartfeature_index671', 'heartfeature_index672', 'heartfeature_index1343', 'time', 'dayofweek', 'timeofweek']\n",
      "prediction accuracy based on test data is 0.660559 \n",
      "['stepsfeature_index671', 'stepsfeature_index672', 'stepsfeature_index1343', 'heartfeature_index671', 'heartfeature_index672', 'heartfeature_index1343', 'time', 'dayofweek', 'timeofweek']\n",
      "prediction accuracy based on test data is 0.660559 \n",
      "['stepsfeature_index671', 'stepsfeature_index672', 'stepsfeature_index1343', 'heartfeature_index671', 'heartfeature_index672', 'heartfeature_index1343', 'time', 'dayofweek', 'timeofweek']\n",
      "prediction accuracy based on test data is 0.660559 \n",
      "['stepsfeature_index671', 'stepsfeature_index672', 'stepsfeature_index1343', 'heartfeature_index671', 'heartfeature_index672', 'heartfeature_index1343', 'time', 'dayofweek', 'timeofweek']\n",
      "prediction accuracy based on test data is 0.660559 \n",
      "['stepsfeature_index671', 'stepsfeature_index672', 'stepsfeature_index1343', 'heartfeature_index671', 'heartfeature_index672', 'heartfeature_index1343', 'time', 'dayofweek', 'timeofweek']\n",
      "prediction accuracy based on test data is 0.660559 \n",
      "['stepsfeature_index671', 'stepsfeature_index672', 'stepsfeature_index1343', 'heartfeature_index671', 'heartfeature_index672', 'heartfeature_index1343', 'time', 'dayofweek', 'timeofweek']\n",
      "prediction accuracy based on test data is 0.660559 \n",
      "['stepsfeature_index671', 'stepsfeature_index672', 'stepsfeature_index1343', 'heartfeature_index671', 'heartfeature_index672', 'heartfeature_index1343', 'time', 'dayofweek', 'timeofweek']\n",
      "prediction accuracy based on test data is 0.660559 \n",
      "['stepsfeature_index671', 'stepsfeature_index672', 'stepsfeature_index1343', 'heartfeature_index671', 'heartfeature_index672', 'heartfeature_index1343', 'time', 'dayofweek', 'timeofweek']\n",
      "prediction accuracy based on test data is 0.660559 \n",
      "['stepsfeature_index671', 'stepsfeature_index672', 'stepsfeature_index1343', 'heartfeature_index671', 'heartfeature_index672', 'heartfeature_index1343', 'time', 'dayofweek', 'timeofweek']\n",
      "prediction accuracy based on test data is 0.660559 \n",
      "['stepsfeature_index671', 'stepsfeature_index672', 'stepsfeature_index1343', 'heartfeature_index671', 'heartfeature_index672', 'heartfeature_index1343', 'time', 'dayofweek', 'timeofweek']\n",
      "prediction accuracy based on test data is 0.660559 \n",
      "['stepsfeature_index671', 'stepsfeature_index672', 'stepsfeature_index1343', 'heartfeature_index671', 'heartfeature_index672', 'heartfeature_index1343', 'time', 'dayofweek', 'timeofweek']\n",
      "prediction accuracy based on test data is 0.660559 \n",
      "['stepsfeature_index671', 'stepsfeature_index672', 'stepsfeature_index1343', 'heartfeature_index671', 'heartfeature_index672', 'heartfeature_index1343', 'time', 'dayofweek', 'timeofweek']\n",
      "prediction accuracy based on test data is 0.660559 \n",
      "['stepsfeature_index671', 'stepsfeature_index672', 'stepsfeature_index1343', 'heartfeature_index671', 'heartfeature_index672', 'heartfeature_index1343', 'time', 'dayofweek', 'timeofweek']\n",
      "prediction accuracy based on test data is 0.660559 \n",
      "['stepsfeature_index671', 'stepsfeature_index672', 'stepsfeature_index1343', 'heartfeature_index671', 'heartfeature_index672', 'heartfeature_index1343', 'time', 'dayofweek', 'timeofweek']\n",
      "prediction accuracy based on test data is 0.657666 \n",
      "['stepsfeature_index671', 'stepsfeature_index672', 'stepsfeature_index1343', 'heartfeature_index671', 'heartfeature_index672', 'heartfeature_index1343', 'time', 'dayofweek', 'timeofweek']\n",
      "prediction accuracy based on test data is 0.660559 \n",
      "['stepsfeature_index671', 'stepsfeature_index672', 'stepsfeature_index1343', 'heartfeature_index671', 'heartfeature_index672', 'heartfeature_index1343', 'time', 'dayofweek', 'timeofweek']\n",
      "prediction accuracy based on test data is 0.660559 \n",
      "['stepsfeature_index671', 'stepsfeature_index672', 'stepsfeature_index1343', 'heartfeature_index671', 'heartfeature_index672', 'heartfeature_index1343', 'time', 'dayofweek', 'timeofweek']\n",
      "prediction accuracy based on test data is 0.660559 \n",
      "['stepsfeature_index671', 'stepsfeature_index672', 'stepsfeature_index1343', 'heartfeature_index671', 'heartfeature_index672', 'heartfeature_index1343', 'time', 'dayofweek', 'timeofweek']\n",
      "prediction accuracy based on test data is 0.660559 \n",
      "['stepsfeature_index671', 'stepsfeature_index672', 'stepsfeature_index1343', 'heartfeature_index671', 'heartfeature_index672', 'heartfeature_index1343', 'time', 'dayofweek', 'timeofweek']\n",
      "prediction accuracy based on test data is 0.660559 \n",
      "['stepsfeature_index671', 'stepsfeature_index672', 'stepsfeature_index1343', 'heartfeature_index671', 'heartfeature_index672', 'heartfeature_index1343', 'time', 'dayofweek', 'timeofweek']\n",
      "prediction accuracy based on test data is 0.660559 \n",
      "['stepsfeature_index671', 'stepsfeature_index672', 'stepsfeature_index1343', 'heartfeature_index671', 'heartfeature_index672', 'heartfeature_index1343', 'time', 'dayofweek', 'timeofweek']\n",
      "prediction accuracy based on test data is 0.660559 \n",
      "['stepsfeature_index671', 'stepsfeature_index672', 'stepsfeature_index1343', 'heartfeature_index671', 'heartfeature_index672', 'heartfeature_index1343', 'time', 'dayofweek', 'timeofweek']\n",
      "prediction accuracy based on test data is 0.660559 \n",
      "['stepsfeature_index671', 'stepsfeature_index672', 'stepsfeature_index1343', 'heartfeature_index671', 'heartfeature_index672', 'heartfeature_index1343', 'time', 'dayofweek', 'timeofweek']\n",
      "prediction accuracy based on test data is 0.660559 \n",
      "['stepsfeature_index671', 'stepsfeature_index672', 'stepsfeature_index1343', 'heartfeature_index671', 'heartfeature_index672', 'heartfeature_index1343', 'time', 'dayofweek', 'timeofweek']\n",
      "prediction accuracy based on test data is 0.660559 \n",
      "['stepsfeature_index671', 'stepsfeature_index672', 'stepsfeature_index1343', 'heartfeature_index671', 'heartfeature_index672', 'heartfeature_index1343', 'time', 'dayofweek', 'timeofweek']\n",
      "prediction accuracy based on test data is 0.660559 \n",
      "['stepsfeature_index671', 'stepsfeature_index672', 'stepsfeature_index1343', 'heartfeature_index671', 'heartfeature_index672', 'heartfeature_index1343', 'time', 'dayofweek', 'timeofweek']\n",
      "prediction accuracy based on test data is 0.660559 \n",
      "['stepsfeature_index671', 'stepsfeature_index672', 'stepsfeature_index1343', 'heartfeature_index671', 'heartfeature_index672', 'heartfeature_index1343', 'time', 'dayofweek', 'timeofweek']\n",
      "prediction accuracy based on test data is 0.660559 \n",
      "['stepsfeature_index671', 'stepsfeature_index672', 'stepsfeature_index1343', 'heartfeature_index671', 'heartfeature_index672', 'heartfeature_index1343', 'time', 'dayofweek', 'timeofweek']\n",
      "prediction accuracy based on test data is 0.660559 \n",
      "['stepsfeature_index671', 'stepsfeature_index672', 'stepsfeature_index1343', 'heartfeature_index671', 'heartfeature_index672', 'heartfeature_index1343', 'time', 'dayofweek', 'timeofweek']\n",
      "prediction accuracy based on test data is 0.660559 \n",
      "['stepsfeature_index671', 'stepsfeature_index672', 'stepsfeature_index1343', 'heartfeature_index671', 'heartfeature_index672', 'heartfeature_index1343', 'time', 'dayofweek', 'timeofweek']\n",
      "prediction accuracy based on test data is 0.660559 \n",
      "['stepsfeature_index671', 'stepsfeature_index672', 'stepsfeature_index1343', 'heartfeature_index671', 'heartfeature_index672', 'heartfeature_index1343', 'time', 'dayofweek', 'timeofweek']\n",
      "prediction accuracy based on test data is 0.660559 \n",
      "['stepsfeature_index671', 'stepsfeature_index672', 'stepsfeature_index1343', 'heartfeature_index671', 'heartfeature_index672', 'heartfeature_index1343', 'time', 'dayofweek', 'timeofweek']\n",
      "prediction accuracy based on test data is 0.660559 \n",
      "['stepsfeature_index671', 'stepsfeature_index672', 'stepsfeature_index1343', 'heartfeature_index671', 'heartfeature_index672', 'heartfeature_index1343', 'time', 'dayofweek', 'timeofweek']\n",
      "prediction accuracy based on test data is 0.648987 \n",
      "['stepsfeature_index671', 'stepsfeature_index672', 'stepsfeature_index1343', 'heartfeature_index671', 'heartfeature_index672', 'heartfeature_index1343', 'time', 'dayofweek', 'timeofweek']\n",
      "prediction accuracy based on test data is 0.658631 \n",
      "['stepsfeature_index671', 'stepsfeature_index672', 'stepsfeature_index1343', 'heartfeature_index671', 'heartfeature_index672', 'heartfeature_index1343', 'time', 'dayofweek', 'timeofweek']\n",
      "prediction accuracy based on test data is 0.658631 \n",
      "['stepsfeature_index671', 'stepsfeature_index672', 'stepsfeature_index1343', 'heartfeature_index671', 'heartfeature_index672', 'heartfeature_index1343', 'time', 'dayofweek', 'timeofweek']\n",
      "prediction accuracy based on test data is 0.655738 \n",
      "['stepsfeature_index671', 'stepsfeature_index672', 'stepsfeature_index1343', 'heartfeature_index671', 'heartfeature_index672', 'heartfeature_index1343', 'time', 'dayofweek', 'timeofweek']\n",
      "prediction accuracy based on test data is 0.661524 \n",
      "['stepsfeature_index671', 'stepsfeature_index672', 'stepsfeature_index1343', 'heartfeature_index671', 'heartfeature_index672', 'heartfeature_index1343', 'time', 'dayofweek', 'timeofweek']\n",
      "prediction accuracy based on test data is 0.660559 \n",
      "['stepsfeature_index671', 'stepsfeature_index672', 'stepsfeature_index1343', 'heartfeature_index671', 'heartfeature_index672', 'heartfeature_index1343', 'time', 'dayofweek', 'timeofweek']\n",
      "prediction accuracy based on test data is 0.660559 \n",
      "['stepsfeature_index671', 'stepsfeature_index672', 'stepsfeature_index1343', 'heartfeature_index671', 'heartfeature_index672', 'heartfeature_index1343', 'time', 'dayofweek', 'timeofweek']\n",
      "prediction accuracy based on test data is 0.660559 \n",
      "['stepsfeature_index671', 'stepsfeature_index672', 'stepsfeature_index1343', 'heartfeature_index671', 'heartfeature_index672', 'heartfeature_index1343', 'time', 'dayofweek', 'timeofweek']\n",
      "prediction accuracy based on test data is 0.660559 \n",
      "['stepsfeature_index671', 'stepsfeature_index672', 'stepsfeature_index1343', 'heartfeature_index671', 'heartfeature_index672', 'heartfeature_index1343', 'time', 'dayofweek', 'timeofweek']\n",
      "prediction accuracy based on test data is 0.660559 \n",
      "['stepsfeature_index671', 'stepsfeature_index672', 'stepsfeature_index1343', 'heartfeature_index671', 'heartfeature_index672', 'heartfeature_index1343', 'time', 'dayofweek', 'timeofweek']\n",
      "prediction accuracy based on test data is 0.660559 \n",
      "['stepsfeature_index671', 'stepsfeature_index672', 'stepsfeature_index1343', 'heartfeature_index671', 'heartfeature_index672', 'heartfeature_index1343', 'time', 'dayofweek', 'timeofweek']\n",
      "prediction accuracy based on test data is 0.660559 \n",
      "['stepsfeature_index671', 'stepsfeature_index672', 'stepsfeature_index1343', 'heartfeature_index671', 'heartfeature_index672', 'heartfeature_index1343', 'time', 'dayofweek', 'timeofweek']\n",
      "prediction accuracy based on test data is 0.660559 \n",
      "['stepsfeature_index671', 'stepsfeature_index672', 'stepsfeature_index1343', 'heartfeature_index671', 'heartfeature_index672', 'heartfeature_index1343', 'time', 'dayofweek', 'timeofweek']\n",
      "prediction accuracy based on test data is 0.660559 \n",
      "['stepsfeature_index671', 'stepsfeature_index672', 'stepsfeature_index1343', 'heartfeature_index671', 'heartfeature_index672', 'heartfeature_index1343', 'time', 'dayofweek', 'timeofweek']\n",
      "prediction accuracy based on test data is 0.655738 \n",
      "['stepsfeature_index671', 'stepsfeature_index672', 'stepsfeature_index1343', 'heartfeature_index671', 'heartfeature_index672', 'heartfeature_index1343', 'time', 'dayofweek', 'timeofweek']\n",
      "prediction accuracy based on test data is 0.656702 \n",
      "['stepsfeature_index671', 'stepsfeature_index672', 'stepsfeature_index1343', 'heartfeature_index671', 'heartfeature_index672', 'heartfeature_index1343', 'time', 'dayofweek', 'timeofweek']\n",
      "prediction accuracy based on test data is 0.656702 \n",
      "['stepsfeature_index671', 'stepsfeature_index672', 'stepsfeature_index1343', 'heartfeature_index671', 'heartfeature_index672', 'heartfeature_index1343', 'time', 'dayofweek', 'timeofweek']\n",
      "prediction accuracy based on test data is 0.656702 \n",
      "['stepsfeature_index671', 'stepsfeature_index672', 'stepsfeature_index1343', 'heartfeature_index671', 'heartfeature_index672', 'heartfeature_index1343', 'time', 'dayofweek', 'timeofweek']\n",
      "prediction accuracy based on test data is 0.656702 \n",
      "['stepsfeature_index671', 'stepsfeature_index672', 'stepsfeature_index1343', 'heartfeature_index671', 'heartfeature_index672', 'heartfeature_index1343', 'time', 'dayofweek', 'timeofweek']\n",
      "prediction accuracy based on test data is 0.656702 \n",
      "['stepsfeature_index671', 'stepsfeature_index672', 'stepsfeature_index1343', 'heartfeature_index671', 'heartfeature_index672', 'heartfeature_index1343', 'time', 'dayofweek', 'timeofweek']\n",
      "prediction accuracy based on test data is 0.656702 \n",
      "['stepsfeature_index671', 'stepsfeature_index672', 'stepsfeature_index1343', 'heartfeature_index671', 'heartfeature_index672', 'heartfeature_index1343', 'time', 'dayofweek', 'timeofweek']\n",
      "prediction accuracy based on test data is 0.656702 \n",
      "['stepsfeature_index671', 'stepsfeature_index672', 'stepsfeature_index1343', 'heartfeature_index671', 'heartfeature_index672', 'heartfeature_index1343', 'time', 'dayofweek', 'timeofweek']\n",
      "prediction accuracy based on test data is 0.656702 \n",
      "['stepsfeature_index671', 'stepsfeature_index672', 'stepsfeature_index1343', 'heartfeature_index671', 'heartfeature_index672', 'heartfeature_index1343', 'time', 'dayofweek', 'timeofweek']\n",
      "prediction accuracy based on test data is 0.655738 \n",
      "['stepsfeature_index671', 'stepsfeature_index672', 'stepsfeature_index1343', 'heartfeature_index671', 'heartfeature_index672', 'heartfeature_index1343', 'time', 'dayofweek', 'timeofweek']\n",
      "prediction accuracy based on test data is 0.656702 \n",
      "['stepsfeature_index671', 'stepsfeature_index672', 'stepsfeature_index1343', 'heartfeature_index671', 'heartfeature_index672', 'heartfeature_index1343', 'time', 'dayofweek', 'timeofweek']\n",
      "prediction accuracy based on test data is 0.656702 \n",
      "['stepsfeature_index671', 'stepsfeature_index672', 'stepsfeature_index1343', 'heartfeature_index671', 'heartfeature_index672', 'heartfeature_index1343', 'time', 'dayofweek', 'timeofweek']\n",
      "prediction accuracy based on test data is 0.656702 \n",
      "['stepsfeature_index671', 'stepsfeature_index672', 'stepsfeature_index1343', 'heartfeature_index671', 'heartfeature_index672', 'heartfeature_index1343', 'time', 'dayofweek', 'timeofweek']\n",
      "prediction accuracy based on test data is 0.656702 \n",
      "['stepsfeature_index671', 'stepsfeature_index672', 'stepsfeature_index1343', 'heartfeature_index671', 'heartfeature_index672', 'heartfeature_index1343', 'time', 'dayofweek', 'timeofweek']\n",
      "prediction accuracy based on test data is 0.656702 \n",
      "['stepsfeature_index671', 'stepsfeature_index672', 'stepsfeature_index1343', 'heartfeature_index671', 'heartfeature_index672', 'heartfeature_index1343', 'time', 'dayofweek', 'timeofweek']\n",
      "prediction accuracy based on test data is 0.656702 \n",
      "['stepsfeature_index671', 'stepsfeature_index672', 'stepsfeature_index1343', 'heartfeature_index671', 'heartfeature_index672', 'heartfeature_index1343', 'time', 'dayofweek', 'timeofweek']\n",
      "prediction accuracy based on test data is 0.656702 \n",
      "['stepsfeature_index671', 'stepsfeature_index672', 'stepsfeature_index1343', 'heartfeature_index671', 'heartfeature_index672', 'heartfeature_index1343', 'time', 'dayofweek', 'timeofweek']\n",
      "prediction accuracy based on test data is 0.656702 \n",
      "['stepsfeature_index671', 'stepsfeature_index672', 'stepsfeature_index1343', 'heartfeature_index671', 'heartfeature_index672', 'heartfeature_index1343', 'time', 'dayofweek', 'timeofweek']\n",
      "prediction accuracy based on test data is 0.659595 \n",
      "['stepsfeature_index671', 'stepsfeature_index672', 'stepsfeature_index1343', 'heartfeature_index671', 'heartfeature_index672', 'heartfeature_index1343', 'time', 'dayofweek', 'timeofweek']\n",
      "prediction accuracy based on test data is 0.657666 \n",
      "['stepsfeature_index671', 'stepsfeature_index672', 'stepsfeature_index1343', 'heartfeature_index671', 'heartfeature_index672', 'heartfeature_index1343', 'time', 'dayofweek', 'timeofweek']\n",
      "prediction accuracy based on test data is 0.655738 \n",
      "['stepsfeature_index671', 'stepsfeature_index672', 'stepsfeature_index1343', 'heartfeature_index671', 'heartfeature_index672', 'heartfeature_index1343', 'time', 'dayofweek', 'timeofweek']\n",
      "prediction accuracy based on test data is 0.655738 \n",
      "['stepsfeature_index671', 'stepsfeature_index672', 'stepsfeature_index1343', 'heartfeature_index671', 'heartfeature_index672', 'heartfeature_index1343', 'time', 'dayofweek', 'timeofweek']\n",
      "prediction accuracy based on test data is 0.655738 \n",
      "['stepsfeature_index671', 'stepsfeature_index672', 'stepsfeature_index1343', 'heartfeature_index671', 'heartfeature_index672', 'heartfeature_index1343', 'time', 'dayofweek', 'timeofweek']\n",
      "prediction accuracy based on test data is 0.655738 \n",
      "['stepsfeature_index671', 'stepsfeature_index672', 'stepsfeature_index1343', 'heartfeature_index671', 'heartfeature_index672', 'heartfeature_index1343', 'time', 'dayofweek', 'timeofweek']\n",
      "prediction accuracy based on test data is 0.655738 \n",
      "['stepsfeature_index671', 'stepsfeature_index672', 'stepsfeature_index1343', 'heartfeature_index671', 'heartfeature_index672', 'heartfeature_index1343', 'time', 'dayofweek', 'timeofweek']\n",
      "prediction accuracy based on test data is 0.655738 \n",
      "['stepsfeature_index671', 'stepsfeature_index672', 'stepsfeature_index1343', 'heartfeature_index671', 'heartfeature_index672', 'heartfeature_index1343', 'time', 'dayofweek', 'timeofweek']\n",
      "prediction accuracy based on test data is 0.655738 \n",
      "['stepsfeature_index671', 'stepsfeature_index672', 'stepsfeature_index1343', 'heartfeature_index671', 'heartfeature_index672', 'heartfeature_index1343', 'time', 'dayofweek', 'timeofweek']\n",
      "prediction accuracy based on test data is 0.655738 \n",
      "['stepsfeature_index671', 'stepsfeature_index672', 'stepsfeature_index1343', 'heartfeature_index671', 'heartfeature_index672', 'heartfeature_index1343', 'time', 'dayofweek', 'timeofweek']\n",
      "prediction accuracy based on test data is 0.655738 \n",
      "['stepsfeature_index671', 'stepsfeature_index672', 'stepsfeature_index1343', 'heartfeature_index671', 'heartfeature_index672', 'heartfeature_index1343', 'time', 'dayofweek', 'timeofweek']\n",
      "prediction accuracy based on test data is 0.655738 \n",
      "['stepsfeature_index671', 'stepsfeature_index672', 'stepsfeature_index1343', 'heartfeature_index671', 'heartfeature_index672', 'heartfeature_index1343', 'time', 'dayofweek', 'timeofweek']\n",
      "prediction accuracy based on test data is 0.655738 \n",
      "['stepsfeature_index671', 'stepsfeature_index672', 'stepsfeature_index1343', 'heartfeature_index671', 'heartfeature_index672', 'heartfeature_index1343', 'time', 'dayofweek', 'timeofweek']\n",
      "prediction accuracy based on test data is 0.655738 \n",
      "['stepsfeature_index671', 'stepsfeature_index672', 'stepsfeature_index1343', 'heartfeature_index671', 'heartfeature_index672', 'heartfeature_index1343', 'time', 'dayofweek', 'timeofweek']\n",
      "prediction accuracy based on test data is 0.655738 \n",
      "['stepsfeature_index671', 'stepsfeature_index672', 'stepsfeature_index1343', 'heartfeature_index671', 'heartfeature_index672', 'heartfeature_index1343', 'time', 'dayofweek', 'timeofweek']\n",
      "prediction accuracy based on test data is 0.655738 \n",
      "['stepsfeature_index671', 'stepsfeature_index672', 'stepsfeature_index1343', 'heartfeature_index671', 'heartfeature_index672', 'heartfeature_index1343', 'time', 'dayofweek', 'timeofweek']\n",
      "prediction accuracy based on test data is 0.655738 \n",
      "['stepsfeature_index671', 'stepsfeature_index672', 'stepsfeature_index1343', 'heartfeature_index671', 'heartfeature_index672', 'heartfeature_index1343', 'time', 'dayofweek', 'timeofweek']\n",
      "prediction accuracy based on test data is 0.655738 \n",
      "['stepsfeature_index671', 'stepsfeature_index672', 'stepsfeature_index1343', 'heartfeature_index671', 'heartfeature_index672', 'heartfeature_index1343', 'time', 'dayofweek', 'timeofweek']\n",
      "prediction accuracy based on test data is 0.655738 \n",
      "0.661523625844\n"
     ]
    }
   ],
   "source": [
    "# Adaboost \n",
    "from sklearn.ensemble import AdaBoostClassifier\n",
    "from sklearn.tree import DecisionTreeClassifier\n",
    "# \n",
    "ada_score_lst = []\n",
    "for i in range(10, 100):\n",
    "    ada_method = AdaBoostClassifier(DecisionTreeClassifier(max_depth=1), algorithm=\"SAMME\", n_estimators=i)\n",
    "    adaboost_model, adaboost_feature = get_model(ndata1_train, ndata1_features, 'inactive', ada_method, \n",
    "                                                 optimized=False)\n",
    "    ada_predicted, ada_accuracy = get_prediction(ndata1_test, adaboost_model, 'inactive', adaboost_feature)\n",
    "    ada_score_lst.append(ada_accuracy)\n",
    "\n",
    "print(mean(ada_score_lst))  # 0.661523625844"
   ]
  },
  {
   "cell_type": "code",
   "execution_count": 137,
   "metadata": {
    "collapsed": false
   },
   "outputs": [
    {
     "name": "stdout",
     "output_type": "stream",
     "text": [
      "prediction score on test data is 0.655738\n",
      "false positive rate is 0.119576\n",
      "false negative rate is 0.224687\n"
     ]
    }
   ],
   "source": [
    "get_model_accuracy(ada_predicted, ndata1_test['inactive'])"
   ]
  },
  {
   "cell_type": "code",
   "execution_count": 150,
   "metadata": {
    "collapsed": false
   },
   "outputs": [],
   "source": [
    "ndata1_test['predicted'] = ada_predicted"
   ]
  },
  {
   "cell_type": "code",
   "execution_count": 156,
   "metadata": {
    "collapsed": false
   },
   "outputs": [
    {
     "name": "stdout",
     "output_type": "stream",
     "text": [
      "notifications of the observed data:\n",
      "notifications generated as follow\n",
      "             date_time  notification\n",
      "5  2016-10-19 15:45:00  notification\n",
      "9  2016-10-20 15:15:00  notification\n",
      "10 2016-10-20 19:30:00  notification\n",
      "14 2016-10-21 14:00:00  notification\n",
      "20 2016-10-22 17:45:00  notification\n",
      "24 2016-10-23 23:30:00  notification\n",
      "32 2016-10-26 19:15:00  notification\n",
      "35 2016-10-27 08:15:00  notification\n",
      "36 2016-10-27 17:45:00  notification\n",
      "notifications of the predicted data:\n",
      "notifications generated as follow\n",
      "             date_time  notification\n",
      "27 2016-10-22 17:30:00  notification\n",
      "28 2016-10-22 20:30:00  notification\n",
      "36 2016-10-23 10:15:00  notification\n",
      "37 2016-10-23 15:15:00  notification\n"
     ]
    }
   ],
   "source": [
    "ndata1_test.reset_index(inplace=True, drop=True)\n",
    "ndata1_test_original = get_prolonged_sedentary(ndata1_test, 'inactive')\n",
    "print('notifications of the observed data:')\n",
    "notification_original = get_notification(ndata1_test_original, 'inactive_bout')\n",
    "ndata1_test_not_predicted = get_prolonged_sedentary(ndata1_test, 'predicted')\n",
    "print('notifications of the predicted data:')\n",
    "notification_predicted = get_notification(ndata1_test_not_predicted, 'inactive_bout')\n"
   ]
  },
  {
   "cell_type": "code",
   "execution_count": 154,
   "metadata": {
    "collapsed": false
   },
   "outputs": [
    {
     "data": {
      "text/plain": [
       "0     False\n",
       "2     False\n",
       "7     False\n",
       "12    False\n",
       "17    False\n",
       "22    False\n",
       "27     True\n",
       "28     True\n",
       "30    False\n",
       "36     True\n",
       "37     True\n",
       "43    False\n",
       "48    False\n",
       "53    False\n",
       "58    False\n",
       "Name: date_time, dtype: bool"
      ]
     },
     "execution_count": 154,
     "metadata": {},
     "output_type": "execute_result"
    }
   ],
   "source": [
    "notification_predicted.date_time.map(lambda x: x.hour in range(7,24))"
   ]
  },
  {
   "cell_type": "markdown",
   "metadata": {},
   "source": [
    "# Time Series Model\n"
   ]
  },
  {
   "cell_type": "code",
   "execution_count": 108,
   "metadata": {
    "collapsed": false
   },
   "outputs": [
    {
     "name": "stdout",
     "output_type": "stream",
     "text": [
      "the 671 th index has ac of 0.283958\n",
      "the 672 th index has ac of 0.211081\n",
      "the 1343 th index has ac of 0.230691\n",
      "feature indexes are 671, 672, 1343\n",
      "index 671 is valid\n",
      "index 672 is valid\n",
      "index 1343 is valid\n"
     ]
    }
   ],
   "source": [
    "ndata1 = fill_missing(data, method='mean')\n",
    "# 2. autocorrelated parameters: steps\n",
    "ndata1_ac_s, ndata1_ac_s_features = get_features(ndata1, method='autoco')\n"
   ]
  },
  {
   "cell_type": "code",
   "execution_count": 111,
   "metadata": {
    "collapsed": true
   },
   "outputs": [],
   "source": [
    "from lib.TimeSeriesModels import *"
   ]
  },
  {
   "cell_type": "code",
   "execution_count": 122,
   "metadata": {
    "collapsed": false
   },
   "outputs": [
    {
     "name": "stdout",
     "output_type": "stream",
     "text": [
      "number of observations in training data is: 4148\n",
      "number of observations in testing data is: 1037\n",
      "Coefficients: \n",
      " [ 0.06175807  0.20350203  0.08791038  0.        ]\n",
      "Mean squared error: 56400.41\n",
      "Variance score: 0.14\n"
     ]
    },
    {
     "name": "stderr",
     "output_type": "stream",
     "text": [
      "/Users/ywang/Desktop/projectMUB/lib/TimeSeriesModels.py:15: SettingWithCopyWarning:\n",
      "\n",
      "\n",
      "A value is trying to be set on a copy of a slice from a DataFrame.\n",
      "Try using .loc[row_indexer,col_indexer] = value instead\n",
      "\n",
      "See the caveats in the documentation: http://pandas.pydata.org/pandas-docs/stable/indexing.html#indexing-view-versus-copy\n",
      "\n",
      "/Users/ywang/Desktop/projectMUB/lib/TimeSeriesModels.py:27: SettingWithCopyWarning:\n",
      "\n",
      "\n",
      "A value is trying to be set on a copy of a slice from a DataFrame.\n",
      "Try using .loc[row_indexer,col_indexer] = value instead\n",
      "\n",
      "See the caveats in the documentation: http://pandas.pydata.org/pandas-docs/stable/indexing.html#indexing-view-versus-copy\n",
      "\n",
      "/Users/ywang/Desktop/projectMUB/lib/TimeSeriesModels.py:30: SettingWithCopyWarning:\n",
      "\n",
      "\n",
      "A value is trying to be set on a copy of a slice from a DataFrame.\n",
      "Try using .loc[row_indexer,col_indexer] = value instead\n",
      "\n",
      "See the caveats in the documentation: http://pandas.pydata.org/pandas-docs/stable/indexing.html#indexing-view-versus-copy\n",
      "\n"
     ]
    },
    {
     "data": {
      "image/png": "[encoded data removed]",
      "text/plain": [
       "<matplotlib.figure.Figure at 0x118bade10>"
      ]
     },
     "metadata": {},
     "output_type": "display_data"
    },
    {
     "name": "stdout",
     "output_type": "stream",
     "text": [
      "prediction score on test data is 0.462874\n",
      "false positive rate is 0.000000\n",
      "false negative rate is 0.537126\n"
     ]
    },
    {
     "name": "stderr",
     "output_type": "stream",
     "text": [
      "/Users/ywang/anaconda/lib/python3.5/site-packages/ipykernel/__main__.py:14: SettingWithCopyWarning:\n",
      "\n",
      "\n",
      "A value is trying to be set on a copy of a slice from a DataFrame.\n",
      "Try using .loc[row_indexer,col_indexer] = value instead\n",
      "\n",
      "See the caveats in the documentation: http://pandas.pydata.org/pandas-docs/stable/indexing.html#indexing-view-versus-copy\n",
      "\n",
      "/Users/ywang/anaconda/lib/python3.5/site-packages/ipykernel/__main__.py:15: SettingWithCopyWarning:\n",
      "\n",
      "\n",
      "A value is trying to be set on a copy of a slice from a DataFrame.\n",
      "Try using .loc[row_indexer,col_indexer] = value instead\n",
      "\n",
      "See the caveats in the documentation: http://pandas.pydata.org/pandas-docs/stable/indexing.html#indexing-view-versus-copy\n",
      "\n"
     ]
    }
   ],
   "source": [
    "# get train and test\n",
    "ndata1_ac_s_train, ndata1_ac_s_test = get_train_test(ndata1_ac_s, split=0.8)\n",
    "ndata1_ac_s_model, ndata1_ac_s_model_features = get_ar_model(ndata1_ac_s_train, ndata1_ac_s_features, 'steps')\n",
    "ndata1_ac_s_model_predicted, ndata1_ac_s_model_accuracy = ar_predict(ndata1_ac_s_model, ndata1_ac_s_test, \n",
    "                                                                     ndata1_ac_s_model_features, 'steps')\n",
    "# pyplot.plot(ndata1_ac_s_model_predicted, color='blue')\n",
    "# pyplot.plot(ndata1_ac_s_test['steps'], color='red')\n",
    "# pyplot.show()\n",
    "pyplot.scatter(range(len(ndata1_ac_s_model_predicted)), ndata1_ac_s_test['steps'], color='blue')\n",
    "pyplot.plot(range(len(ndata1_ac_s_model_predicted)), ndata1_ac_s_model_predicted, color='black')\n",
    "\n",
    "pyplot.show()\n",
    "inactive_handler = lambda x: 10 if x == 0 else -10\n",
    "ndata1_ac_s_test['predicted'] = [inactive_handler(i) for i in ndata1_ac_s_model_predicted]\n",
    "ndata1_ac_s_test['inactive'] = [inactive_handler(i) for i in ndata1_ac_s_test['steps']]\n",
    "get_model_accuracy(ndata1_ac_s_test['predicted'], ndata1_ac_s_test['inactive'])"
   ]
  },
  {
   "cell_type": "code",
   "execution_count": 136,
   "metadata": {
    "collapsed": false
   },
   "outputs": [
    {
     "name": "stdout",
     "output_type": "stream",
     "text": [
      "Coefficients: \n",
      " [ 0.10201168  0.253538    0.15796397]\n",
      "Index(['stepsfeature_index671', 'stepsfeature_index672',\n",
      "       'stepsfeature_index1343'],\n",
      "      dtype='object')\n",
      "Mean squared error: 58348.97\n",
      "Variance score: 0.11\n"
     ]
    },
    {
     "name": "stderr",
     "output_type": "stream",
     "text": [
      "/Users/ywang/anaconda/lib/python3.5/site-packages/ipykernel/__main__.py:22: SettingWithCopyWarning:\n",
      "\n",
      "\n",
      "A value is trying to be set on a copy of a slice from a DataFrame.\n",
      "Try using .loc[row_indexer,col_indexer] = value instead\n",
      "\n",
      "See the caveats in the documentation: http://pandas.pydata.org/pandas-docs/stable/indexing.html#indexing-view-versus-copy\n",
      "\n"
     ]
    },
    {
     "data": {
      "image/png": "[encoded data removed]",
      "text/plain": [
       "<matplotlib.figure.Figure at 0x1189dea58>"
      ]
     },
     "metadata": {},
     "output_type": "display_data"
    },
    {
     "name": "stdout",
     "output_type": "stream",
     "text": [
      "prediction score on test data is 0.580521\n",
      "false positive rate is 0.076181\n",
      "false negative rate is 0.343298\n"
     ]
    },
    {
     "name": "stderr",
     "output_type": "stream",
     "text": [
      "/Users/ywang/anaconda/lib/python3.5/site-packages/ipykernel/__main__.py:39: SettingWithCopyWarning:\n",
      "\n",
      "\n",
      "A value is trying to be set on a copy of a slice from a DataFrame.\n",
      "Try using .loc[row_indexer,col_indexer] = value instead\n",
      "\n",
      "See the caveats in the documentation: http://pandas.pydata.org/pandas-docs/stable/indexing.html#indexing-view-versus-copy\n",
      "\n",
      "/Users/ywang/anaconda/lib/python3.5/site-packages/ipykernel/__main__.py:40: SettingWithCopyWarning:\n",
      "\n",
      "\n",
      "A value is trying to be set on a copy of a slice from a DataFrame.\n",
      "Try using .loc[row_indexer,col_indexer] = value instead\n",
      "\n",
      "See the caveats in the documentation: http://pandas.pydata.org/pandas-docs/stable/indexing.html#indexing-view-versus-copy\n",
      "\n"
     ]
    }
   ],
   "source": [
    "from sklearn import linear_model\n",
    "import numpy as np\n",
    "\n",
    "\n",
    "def get_ar_model(data, feature, target):\n",
    "    X = data[feature]\n",
    "    # X['x_0'] = [1] * len(X)\n",
    "    y = data[target]\n",
    "    # Create linear regression object\n",
    "    model = linear_model.LinearRegression(fit_intercept=False)\n",
    "    # Train the model\n",
    "    model = model.fit(X, y)\n",
    "    print('Coefficients: \\n', model.coef_)\n",
    "    print(X.columns)\n",
    "    return model, feature\n",
    "\n",
    "def ar_predict(model, data, feature, target):\n",
    "    X = data[feature]\n",
    "    # X['x_0'] = [1] * len(X)\n",
    "    y = data[target]\n",
    "    predicted = model.predict(X)\n",
    "    data['predicted'] = predicted\n",
    "    print(\"Mean squared error: %.2f\"\n",
    "          % np.mean((model.predict(X) - y) ** 2))\n",
    "    print('Variance score: %.2f' % model.score(X, y))\n",
    "    return predicted, model.score(X, y)\n",
    "\n",
    "\n",
    "ndata1_ac_s_model, ndata1_ac_s_model_features = get_ar_model(ndata1_ac_s_train, ndata1_ac_s_features, 'steps')\n",
    "ndata1_ac_s_model_predicted, ndata1_ac_s_model_accuracy = ar_predict(ndata1_ac_s_model, ndata1_ac_s_test, \n",
    "                                                                     ndata1_ac_s_model_features, 'steps')\n",
    "\n",
    "pyplot.plot(range(len(ndata1_ac_s_model_predicted)), ndata1_ac_s_test['steps'], color='blue')\n",
    "pyplot.plot(range(len(ndata1_ac_s_model_predicted)), ndata1_ac_s_model_predicted, color='black')\n",
    "pyplot.show()\n",
    "\n",
    "\n",
    "inactive_handler = lambda x: 10 if x == 0 else -10\n",
    "ndata1_ac_s_test['predicted'] = [inactive_handler(i) for i in ndata1_ac_s_model_predicted]\n",
    "ndata1_ac_s_test['inactive'] = [inactive_handler(i) for i in ndata1_ac_s_test['steps']]\n",
    "get_model_accuracy(ndata1_ac_s_test['predicted'], ndata1_ac_s_test['inactive'])"
   ]
  },
  {
   "cell_type": "code",
   "execution_count": 145,
   "metadata": {
    "collapsed": false
   },
   "outputs": [
    {
     "data": {
      "image/png": "[encoded data removed]",
      "text/plain": [
       "<matplotlib.figure.Figure at 0x11d8d9278>"
      ]
     },
     "metadata": {},
     "output_type": "display_data"
    },
    {
     "data": {
      "text/plain": [
       "0.19382835101253615"
      ]
     },
     "execution_count": 145,
     "metadata": {},
     "output_type": "execute_result"
    }
   ],
   "source": [
    "pyplot.ylim(-20, 20)\n",
    "pyplot.plot(range(len(ndata1_ac_s_model_predicted)), ndata1_ac_s_test['inactive']+5, '.', color='blue')\n",
    "pyplot.plot(range(len(ndata1_ac_s_model_predicted)), ndata1_ac_s_test['predicted'], '.', color='black')\n",
    "pyplot.show()\n",
    "\n",
    "sum((ndata1_ac_s_test['predicted'] == 10) & (ndata1_ac_s_test['inactive'] == 10))/len(ndata1_ac_s_model_predicted)"
   ]
  },
  {
   "cell_type": "code",
   "execution_count": 155,
   "metadata": {
    "collapsed": true
   },
   "outputs": [],
   "source": [
    "from pandas.tseries.offsets import *\n",
    "\n",
    "def get_prolonged_sedentary(data, colname):\n",
    "    # 1. get consecutive inactive bouts\n",
    "    data['inactive_bout'] = 0\n",
    "    m = 0\n",
    "    n = 1\n",
    "    while n < len(data):\n",
    "        if data.loc[m, colname] == 10:\n",
    "            if data.loc[n, colname] == 10:\n",
    "                # check if consecutive\n",
    "                time_delta = data.loc[n, 'date_time'] - data.loc[n - 1, 'date_time']\n",
    "                if time_delta == dt.timedelta(minutes=15):\n",
    "                    data.loc[m, 'inactive_bout'] += 1\n",
    "                    n += 1\n",
    "                else:\n",
    "                    m = n\n",
    "                    n = m + 1\n",
    "            else:\n",
    "                m = n + 1\n",
    "                n = m + 1\n",
    "        else:\n",
    "            m = n\n",
    "            n += 1\n",
    "    # # 2. fill in intervals within prolonged sedentary time with 1\n",
    "    # data['sedentary'] = 0\n",
    "    # i = 0\n",
    "    # while i < len(data):\n",
    "    #     n_bout = data.inactive_bout[i]\n",
    "    #     if n_bout >= 5:  # >= 90min\n",
    "    #         j = i\n",
    "    #         while j <= i + n_bout:\n",
    "    #             data.loc[j, 'sedentary'] = 1\n",
    "    #             j += 1\n",
    "    #     i += 1\n",
    "    # print(data[445:460])\n",
    "    return data\n",
    "\n",
    "\n",
    "def get_notification(data, reference_col):\n",
    "    data = data[data[reference_col] >= 5]\n",
    "    # print(data.head())\n",
    "    data = data.reset_index()\n",
    "    date_time = []\n",
    "    notification = []\n",
    "    for i in data.index:\n",
    "        num_msg = math.floor((data.loc[i, reference_col] + 1) / 6)\n",
    "        start_time = pd.to_datetime(data.date_time[i]) + DateOffset(hours=1.5)\n",
    "        for j in range(num_msg):\n",
    "            date_time.append(start_time)\n",
    "            notification.append(\"notification\")\n",
    "            start_time = start_time + DateOffset(hours=1.5)\n",
    "    notification = pd.DataFrame({'date_time': date_time, 'notification': notification})\n",
    "    notification.reset_index(drop=True, inplace=True)\n",
    "    filter_not = [True]\n",
    "    for i in range(len(notification)-1):\n",
    "        time_d = notification.date_time[i+1] - notification.date_time[i]\n",
    "        if time_d <= dt.timedelta(hours=2):\n",
    "            filter_not.append(False)\n",
    "        else:\n",
    "            filter_not.append(True)\n",
    "    notification = notification[filter_not]\n",
    "    notification = notification[notification.date_time.map(lambda x: x.hour in range(7,24))]\n",
    "    print(\"notifications generated as follow\")\n",
    "    print(notification)\n",
    "    return notification"
   ]
  },
  {
   "cell_type": "code",
   "execution_count": 157,
   "metadata": {
    "collapsed": false
   },
   "outputs": [
    {
     "name": "stderr",
     "output_type": "stream",
     "text": [
      "/Users/ywang/anaconda/lib/python3.5/site-packages/ipykernel/__main__.py:5: SettingWithCopyWarning:\n",
      "\n",
      "\n",
      "A value is trying to be set on a copy of a slice from a DataFrame.\n",
      "Try using .loc[row_indexer,col_indexer] = value instead\n",
      "\n",
      "See the caveats in the documentation: http://pandas.pydata.org/pandas-docs/stable/indexing.html#indexing-view-versus-copy\n",
      "\n",
      "/Users/ywang/anaconda/lib/python3.5/site-packages/pandas/core/indexing.py:465: SettingWithCopyWarning:\n",
      "\n",
      "\n",
      "A value is trying to be set on a copy of a slice from a DataFrame.\n",
      "Try using .loc[row_indexer,col_indexer] = value instead\n",
      "\n",
      "See the caveats in the documentation: http://pandas.pydata.org/pandas-docs/stable/indexing.html#indexing-view-versus-copy\n",
      "\n"
     ]
    },
    {
     "name": "stdout",
     "output_type": "stream",
     "text": [
      "notifications of the observed data:\n",
      "notifications generated as follow\n",
      "             date_time  notification\n",
      "5  2016-10-19 15:45:00  notification\n",
      "9  2016-10-20 15:15:00  notification\n",
      "10 2016-10-20 19:30:00  notification\n",
      "14 2016-10-21 14:00:00  notification\n",
      "20 2016-10-22 17:45:00  notification\n",
      "24 2016-10-23 23:30:00  notification\n",
      "32 2016-10-26 19:15:00  notification\n",
      "35 2016-10-27 08:15:00  notification\n",
      "36 2016-10-27 17:45:00  notification\n",
      "notifications of the predicted data:\n",
      "notifications generated as follow\n",
      "            date_time  notification\n",
      "4 2016-10-21 07:45:00  notification\n"
     ]
    }
   ],
   "source": [
    "ndata1_ac_s_test.reset_index(inplace=True, drop=True)\n",
    "ndata1_ac_s_test_original = get_prolonged_sedentary(ndata1_ac_s_test, 'inactive')\n",
    "print('notifications of the observed data:')\n",
    "notification_original = get_notification(ndata1_ac_s_test_original, 'inactive_bout')\n",
    "ndata1_ac_s_test_not_predicted = get_prolonged_sedentary(ndata1_ac_s_test, 'predicted')\n",
    "print('notifications of the predicted data:')\n",
    "notification_predicted = get_notification(ndata1_ac_s_test_not_predicted, 'inactive_bout')\n"
   ]
  }
 ],
 "metadata": {
  "anaconda-cloud": {},
  "kernelspec": {
   "display_name": "Python [default]",
   "language": "python",
   "name": "python3"
  },
  "language_info": {
   "codemirror_mode": {
    "name": "ipython",
    "version": 3
   },
   "file_extension": ".py",
   "mimetype": "text/x-python",
   "name": "python",
   "nbconvert_exporter": "python",
   "pygments_lexer": "ipython3",
   "version": "3.5.2"
  }
 },
 "nbformat": 4,
 "nbformat_minor": 1
}
